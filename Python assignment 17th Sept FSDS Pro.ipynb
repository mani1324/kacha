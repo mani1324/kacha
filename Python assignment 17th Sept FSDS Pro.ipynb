{
 "cells": [
  {
   "cell_type": "raw",
   "id": "c73a4daa-7851-4bd4-b1ca-b0d2ff80e7cb",
   "metadata": {},
   "source": [
    "For Loop :-\n"
   ]
  },
  {
   "cell_type": "code",
   "execution_count": 1,
   "id": "c16879ca-b409-4e6a-ad20-efa5ecd13d68",
   "metadata": {},
   "outputs": [
    {
     "name": "stdout",
     "output_type": "stream",
     "text": [
      "1\n",
      "2\n",
      "3\n",
      "4\n",
      "5\n",
      "6\n",
      "7\n",
      "8\n",
      "9\n",
      "10\n"
     ]
    }
   ],
   "source": [
    "#01.Write a Python program to print numbers from 1 to 10 using a for loop.\n",
    "\n",
    "\n",
    "for i in range(1,11):\n",
    "    print(i)"
   ]
  },
  {
   "cell_type": "code",
   "execution_count": null,
   "id": "7372c411-8f85-4db0-8bd4-ce2513d8ccd3",
   "metadata": {},
   "outputs": [],
   "source": [
    "#02.Explain the difference between a for loop and a while loop in Python.\n",
    "\"\"\"if we know how times we will iterate go with for loop and\n",
    "if we dont know how times we will iterate go with while loop.\"\"\"\n",
    "\n"
   ]
  },
  {
   "cell_type": "code",
   "execution_count": 16,
   "id": "111c15d5-16d7-4eb0-8c72-44f7b226b8e5",
   "metadata": {},
   "outputs": [
    {
     "name": "stdout",
     "output_type": "stream",
     "text": [
      "5050\n"
     ]
    }
   ],
   "source": [
    "#03.Write a Python program to calculate the sum of all numbers from 1 to 100 using a for loop.\n",
    "number = list(range(1,101))\n",
    "total=0\n",
    "for i in number:\n",
    "    total=total+i\n",
    "print(total)\n",
    "    \n",
    "    "
   ]
  },
  {
   "cell_type": "code",
   "execution_count": 17,
   "id": "65262e21-7134-459b-a02b-df702c255011",
   "metadata": {},
   "outputs": [
    {
     "name": "stdout",
     "output_type": "stream",
     "text": [
      "Dipankar\n",
      "Dip\n",
      "Diptanu\n",
      "Amrit\n",
      "surav\n",
      "Diptanu\n"
     ]
    }
   ],
   "source": [
    "#04.How do you iterate through a list using a for loop in Python?\n",
    "\n",
    "friend = [\"Dipankar\",\"Dip\",\"Diptanu\",\"Amrit\",\"surav\",\"Diptanu\"]\n",
    "for i in friend:\n",
    "    print(i)"
   ]
  },
  {
   "cell_type": "code",
   "execution_count": 19,
   "id": "ae8f1132-3112-4e3a-9699-cbedbb40b63d",
   "metadata": {},
   "outputs": [
    {
     "name": "stdout",
     "output_type": "stream",
     "text": [
      "423360\n"
     ]
    }
   ],
   "source": [
    "#05.Write a Python program to find the product of all elements in a list using a for loop.\n",
    "List = [1,3,56,7,8,9,5,]\n",
    "\n",
    "product =1\n",
    "for i in List:\n",
    "    product*=i\n",
    "print(product)"
   ]
  },
  {
   "cell_type": "code",
   "execution_count": 20,
   "id": "42722145-a525-4a93-a184-cb0e9522b2a2",
   "metadata": {},
   "outputs": [
    {
     "name": "stdout",
     "output_type": "stream",
     "text": [
      "2\n",
      "4\n",
      "6\n",
      "8\n",
      "10\n",
      "12\n",
      "14\n",
      "16\n",
      "18\n",
      "20\n"
     ]
    }
   ],
   "source": [
    "#06.Create a Python program that prints all even numbers from 1 to 20 using a for loop.\n",
    "\n",
    "for i in range(1,21):\n",
    "    if i%2==0:\n",
    "        print(i)"
   ]
  },
  {
   "cell_type": "code",
   "execution_count": 22,
   "id": "576d9671-6e0a-401b-99a5-14905fa69e4e",
   "metadata": {},
   "outputs": [
    {
     "name": "stdin",
     "output_type": "stream",
     "text": [
      "enter a number 5\n"
     ]
    },
    {
     "name": "stdout",
     "output_type": "stream",
     "text": [
      "120\n"
     ]
    }
   ],
   "source": [
    "#07.Write a Python program that calculates the factorial of a number using a for loop.\n",
    "\n",
    "number= range(1,int(input(\"enter a number\")) +1)\n",
    "\n",
    "factorial = 1\n",
    "\n",
    "for i in number:\n",
    "    factorial *=i\n",
    "print(factorial)\n",
    "    \n",
    "\n",
    "\n",
    "\n"
   ]
  },
  {
   "cell_type": "code",
   "execution_count": 23,
   "id": "b1828442-ee0e-4955-9265-6aa8410aed72",
   "metadata": {},
   "outputs": [
    {
     "name": "stdout",
     "output_type": "stream",
     "text": [
      "p\n",
      "w\n",
      "s\n",
      "k\n",
      "i\n",
      "l\n",
      "l\n",
      "s\n"
     ]
    }
   ],
   "source": [
    "#08.How can you iterate through the characters of a string using a for loop in Python?\n",
    "string = \"pwskills\"\n",
    "for i in string:\n",
    "    print(i)"
   ]
  },
  {
   "cell_type": "code",
   "execution_count": 54,
   "id": "e2f46c5d-08cd-4126-b45a-0712d0bc8fd0",
   "metadata": {},
   "outputs": [
    {
     "name": "stdout",
     "output_type": "stream",
     "text": [
      "656\n"
     ]
    }
   ],
   "source": [
    "#09.Write a Python program to find the largest number in a list using a for loop.\n",
    "List = [10,12,3,4,5,656,67,54,55]\n",
    "max_num=List[0]\n",
    "\n",
    "for i in List:\n",
    "    if i>max_num :\n",
    "        max_num=i \n",
    "print(max_num)"
   ]
  },
  {
   "cell_type": "code",
   "execution_count": 1,
   "id": "e6863371-d231-4f90-aa0c-09727ae6f6dd",
   "metadata": {},
   "outputs": [],
   "source": [
    "#10.Create a Python program that prints the Fibonacci sequence up to a specified limit using a for loop.\n",
    "\n",
    "def gen_fib(n) : \n",
    "    if n <=1 :\n",
    "        return n \n",
    "    else:\n",
    "        return gen_fib(n-1) + gen_fib(n-2)"
   ]
  },
  {
   "cell_type": "code",
   "execution_count": 4,
   "id": "7694e1b2-5e20-429d-aa18-0b3722ab624c",
   "metadata": {},
   "outputs": [
    {
     "data": {
      "text/plain": [
       "13"
      ]
     },
     "execution_count": 4,
     "metadata": {},
     "output_type": "execute_result"
    }
   ],
   "source": [
    "gen_fib(7)"
   ]
  },
  {
   "cell_type": "code",
   "execution_count": 4,
   "id": "aca8c09b-03f3-43e6-aa73-3e0a8f69edd7",
   "metadata": {},
   "outputs": [
    {
     "name": "stdout",
     "output_type": "stream",
     "text": [
      "Number of 'a' in the string: 2\n",
      "Number of 'e' in the string: 0\n",
      "Number of 'i' in the string: 1\n",
      "Number of 'o' in the string: 0\n",
      "Number of 'u' in the string: 0\n",
      "Number of 'A' in the string: 0\n",
      "Number of 'E' in the string: 0\n",
      "Number of 'I' in the string: 0\n",
      "Number of 'O' in the string: 0\n",
      "Number of 'U' in the string: 0\n",
      "Total number of vowels in the string: 3\n"
     ]
    }
   ],
   "source": [
    "#11.Write a Python program to count the number of vowels in a given string using a for loop.\n",
    "string = \"manimay\"\n",
    "vowels = \"aeiouAEIOU\"\n",
    "count = sum(string.count(vowel) for vowel in vowels)\n",
    "\n",
    "for vowel in vowels:\n",
    "    print(f\"Number of '{vowel}' in the string: {string.count(vowel)}\")\n",
    "\n",
    "print(\"Total number of vowels in the string:\", count)\n"
   ]
  },
  {
   "cell_type": "code",
   "execution_count": 27,
   "id": "a8009502-38d7-4671-81dd-a8365a764323",
   "metadata": {},
   "outputs": [
    {
     "name": "stdin",
     "output_type": "stream",
     "text": [
      "Enter a number :  5\n"
     ]
    },
    {
     "name": "stdout",
     "output_type": "stream",
     "text": [
      "multiplication Table for  5\n",
      "5 x 1 = 5\n",
      "5 x 2 = 10\n",
      "5 x 3 = 15\n",
      "5 x 4 = 20\n",
      "5 x 5 = 25\n",
      "5 x 6 = 30\n",
      "5 x 7 = 35\n",
      "5 x 8 = 40\n",
      "5 x 9 = 45\n",
      "5 x 10 = 50\n"
     ]
    }
   ],
   "source": [
    "#12.Create a Python program that generates a multiplication table for a given number using a for loop.\n",
    "num= int(input(\"Enter a number : \"))\n",
    "print(\"multiplication Table for \",num)\n",
    "\n",
    "for i in range(1,11):\n",
    "    product = num*i\n",
    "    print(num,\"x\",i,\"=\",product)\n"
   ]
  },
  {
   "cell_type": "code",
   "execution_count": 37,
   "id": "5995a11c-9a58-4ecd-be4c-51a8ca831be0",
   "metadata": {},
   "outputs": [
    {
     "name": "stdout",
     "output_type": "stream",
     "text": [
      "['kaa', 'sha', 'tumi', 'ami']\n",
      "['kaa', 'sha', 'tumi', 'ami']\n",
      "['kaa', 'sha', 'tumi', 'ami']\n",
      "['kaa', 'sha', 'tumi', 'ami']\n"
     ]
    }
   ],
   "source": [
    "#13.Write a Python program to reverse a list using a for loop.\n",
    "List=[\"ami\",\"tumi\",\"sha\",\"kaa\"]\n",
    "\n",
    "for i in List:\n",
    "    List_1=List[::-1] \n",
    "    \n",
    "    print(List_1)\n"
   ]
  },
  {
   "cell_type": "code",
   "execution_count": 5,
   "id": "0ef3c16e-383e-4be7-a8ac-4f526f1a31e4",
   "metadata": {},
   "outputs": [
    {
     "name": "stdout",
     "output_type": "stream",
     "text": [
      "common element :\n",
      "[5]\n"
     ]
    }
   ],
   "source": [
    "#14.Write a Python program to find the common elements between two lists using a for loop.\n",
    "list1=[1,2,3,4,5]\n",
    "list2=[5,6,7,8,9]\n",
    "common_ele =[]\n",
    "for i in list1:\n",
    "    for j in list2:\n",
    "        if i==j:\n",
    "            common_ele.append(i)\n",
    "print(\"common element :\")\n",
    "print(common_ele)"
   ]
  },
  {
   "cell_type": "code",
   "execution_count": 9,
   "id": "7b04ab24-6cec-44bc-abc7-286502404436",
   "metadata": {},
   "outputs": [
    {
     "name": "stdout",
     "output_type": "stream",
     "text": [
      "key :  apple  and  value :  4\n",
      "key :  banana  and  value :  5\n",
      "key :  mango   and  value :  8\n"
     ]
    }
   ],
   "source": [
    "#15.Explain how to use a for loop to iterate through the keys and values of a dictionary in Python.\n",
    "\"\"\" By using the items() methode of dictionary we get an iterable view of its key-value pairs. \"\"\"\n",
    "Dic = {\"apple\": 4, \"banana\": 5, \"mango \": 8}\n",
    "for key,value in Dic.items():\n",
    "    print(\"key : \",key,\" and  value : \",value)"
   ]
  },
  {
   "cell_type": "code",
   "execution_count": 13,
   "id": "c5c391bd-f442-48f4-a9f0-df0ce9468460",
   "metadata": {},
   "outputs": [
    {
     "name": "stdin",
     "output_type": "stream",
     "text": [
      "Enter 1st number : 4\n",
      "Enter 2nd number : 8\n"
     ]
    },
    {
     "name": "stdout",
     "output_type": "stream",
     "text": [
      "GCD of  4 and 8 is 4\n"
     ]
    }
   ],
   "source": [
    "#16.Write a Python program to find the GCD (Greatest Common Divisor) of two numbers using a for loop.\n",
    "\n",
    "a = int(input(\"Enter 1st number :\"))\n",
    "b = int(input(\"Enter 2nd number :\"))\n",
    "\n",
    "\n",
    "for i in range(1, min(a,b)+1 ):\n",
    "    if b%i ==0 and a%i ==0:\n",
    "        GCD=i\n",
    "        \n",
    "print(\"GCD of \",a,\"and\",b,\"is\",GCD)\n",
    "\n"
   ]
  },
  {
   "cell_type": "code",
   "execution_count": 55,
   "id": "94b13b26-f0bf-4504-875f-5236144b9250",
   "metadata": {},
   "outputs": [
    {
     "name": "stdin",
     "output_type": "stream",
     "text": [
      "Enter a string : manimay\n"
     ]
    },
    {
     "name": "stdout",
     "output_type": "stream",
     "text": [
      "manimay is not palindrome\n"
     ]
    }
   ],
   "source": [
    "#17.Create a Python program that checks if a string is a palindrome using a for loop.\n",
    "string= input(\"Enter a string :\")\n",
    "\n",
    "rev_str = ''\n",
    "\n",
    "for char in string:\n",
    "    rev_str == rev_str[::-1]\n",
    "if string == rev_str:\n",
    "    print(string,\"is palindrome\")\n",
    "else:\n",
    "    print(string,\"is not palindrome\")\n",
    "    \n",
    "        "
   ]
  },
  {
   "cell_type": "code",
   "execution_count": 67,
   "id": "27b0d458-007e-4899-952c-cb9503d4ddcd",
   "metadata": {},
   "outputs": [
    {
     "name": "stdout",
     "output_type": "stream",
     "text": [
      "New list : {1, 2, 3, 4, 5, 6}\n"
     ]
    }
   ],
   "source": [
    "#18.Write a Python program to remove duplicates from a list using a for loop.\n",
    "\n",
    "my_list = [1,2,3,4,5,6,3,2,1,4]\n",
    "dup_itms = set()\n",
    "uni_itms = []\n",
    "\n",
    "for i in my_list:\n",
    "    if i not in dup_itms:\n",
    "        dup_itms.add(i)\n",
    "        uni_itms.append(i)\n",
    "print(\"New list :\",  dup_itms)\n",
    "        "
   ]
  },
  {
   "cell_type": "code",
   "execution_count": 69,
   "id": "b990af9f-fc01-42ce-9ca7-32d2773e5b27",
   "metadata": {},
   "outputs": [
    {
     "name": "stdin",
     "output_type": "stream",
     "text": [
      "Enter a string : i am not a robot\n"
     ]
    },
    {
     "name": "stdout",
     "output_type": "stream",
     "text": [
      "Total number of words :  5\n"
     ]
    }
   ],
   "source": [
    "#19.Create a Python program that counts the number of words in a sentence using a for loop.\n",
    "\n",
    "string= input(\"Enter a string :\")\n",
    "count = 0\n",
    "for words in string.split():\n",
    "    count= count +1\n",
    "    \n",
    "print(\"Total number of words : \",count)\n",
    "    "
   ]
  },
  {
   "cell_type": "code",
   "execution_count": 73,
   "id": "a563b360-22b7-4073-88a3-c4e9cf4395c3",
   "metadata": {},
   "outputs": [
    {
     "name": "stdout",
     "output_type": "stream",
     "text": [
      "the sum of all odd numbers from 1 to 50 is  625\n"
     ]
    }
   ],
   "source": [
    "#20.Write a Python program to find the sum of all odd numbers from 1 to 50 using a for loop.\n",
    "total = 0\n",
    "for i in range(0,51):\n",
    "    if i %2!=0:\n",
    "        total= total +i\n",
    "        \n",
    "print(\"the sum of all odd numbers from 1 to 50 is \",total)"
   ]
  },
  {
   "cell_type": "code",
   "execution_count": 1,
   "id": "3e38d406-4986-4ecb-96bf-ec6417aef71a",
   "metadata": {},
   "outputs": [
    {
     "name": "stdin",
     "output_type": "stream",
     "text": [
      "Enter a year:  2004\n"
     ]
    },
    {
     "name": "stdout",
     "output_type": "stream",
     "text": [
      "2004 is a leap year.\n"
     ]
    }
   ],
   "source": [
    "#21.Write a Python program that checks if a given year is a leap year using a for loop.\n",
    "\n",
    "# Function to check if a year is a leap year using a for loop\n",
    "def is_leap_year(year):\n",
    "    # Create a list of leap years in a specific range (e.g., 1900 to 2200)\n",
    "    leap_years = [y for y in range(1900, 2201) if (y % 4 == 0 and y % 100 != 0) or (y % 400 == 0)]\n",
    "    \n",
    "    # Check if the input year is in the list of leap years\n",
    "    if year in leap_years:\n",
    "        return True\n",
    "    else:\n",
    "        return False\n",
    "\n",
    "# Input year from the user\n",
    "year = int(input(\"Enter a year: \"))\n",
    "\n",
    "# Check if it's a leap year using the is_leap_year function and print the result\n",
    "if is_leap_year(year):\n",
    "    print(f\"{year} is a leap year.\")\n",
    "else:\n",
    "    print(f\"{year} is not a leap year.\")\n",
    "\n",
    "    "
   ]
  },
  {
   "cell_type": "code",
   "execution_count": 12,
   "id": "6152b150-534f-48c2-a906-f1981903485c",
   "metadata": {},
   "outputs": [
    {
     "name": "stdin",
     "output_type": "stream",
     "text": [
      "enter a number : 25\n"
     ]
    },
    {
     "name": "stdout",
     "output_type": "stream",
     "text": [
      "square root of  25.0 is 5\n"
     ]
    }
   ],
   "source": [
    "#22.Create a Python program that calculates the square root of a number using a for loop.\n",
    "num=float(input(\"enter a number :\"))\n",
    "for i in range(10000):\n",
    "    if i==num**(0.5):\n",
    "        print(\"square root of \",num,\"is\",i)"
   ]
  },
  {
   "cell_type": "code",
   "execution_count": 23,
   "id": "a953e7c7-a124-499e-9421-269354038b4b",
   "metadata": {},
   "outputs": [
    {
     "name": "stdin",
     "output_type": "stream",
     "text": [
      "enter 1st number :  8\n",
      "enter 2nd number :  12\n"
     ]
    },
    {
     "name": "stdout",
     "output_type": "stream",
     "text": [
      "LCM of  8 and 12 is 24.0\n"
     ]
    }
   ],
   "source": [
    "#23.Write a Python program to find the LCM (Least Common Multiple) of two numbers using a for loop.\n",
    "a = int(input(\"enter 1st number : \"))\n",
    "b = int(input(\"enter 2nd number : \"))\n",
    "c = a*b\n",
    "for i in range(1,min(a,b) + 1):\n",
    "    if a%i==0 and b%i==0:\n",
    "        GCD=i\n",
    "        \n",
    "LCM=c/GCD\n",
    "        \n",
    "print(\"LCM of \",a,\"and\",b,\"is\",LCM)"
   ]
  },
  {
   "cell_type": "raw",
   "id": "84ba02b7-3c39-4972-8420-82ae1cced304",
   "metadata": {},
   "source": [
    "If else :\n"
   ]
  },
  {
   "cell_type": "code",
   "execution_count": 1,
   "id": "99186305-9a49-43f6-a56d-a2db3723fba4",
   "metadata": {},
   "outputs": [
    {
     "name": "stdin",
     "output_type": "stream",
     "text": [
      "Enter a number : 5\n"
     ]
    },
    {
     "name": "stdout",
     "output_type": "stream",
     "text": [
      "5  is positive number.\n"
     ]
    }
   ],
   "source": [
    "#01.Write a Python program to check if a number is positive, negative, or zero using an if-else statement.\n",
    "n = int(input(\"Enter a number :\"))\n",
    "if n>0:\n",
    "    print(n,\" is positive number.\")\n",
    "elif n==0:\n",
    "    print(\"zero\")\n",
    "else:\n",
    "    print(n,\" is negative number\")"
   ]
  },
  {
   "cell_type": "code",
   "execution_count": 2,
   "id": "956d2d77-52ab-4e69-ba00-2a84f8ade5c1",
   "metadata": {},
   "outputs": [
    {
     "name": "stdin",
     "output_type": "stream",
     "text": [
      "Enter a number :  4\n"
     ]
    },
    {
     "name": "stdout",
     "output_type": "stream",
     "text": [
      "4  is even number.\n"
     ]
    }
   ],
   "source": [
    "#02.Create a Python program that checks if a given number is even or odd using an if-else statement.\n",
    "n = int(input(\"Enter a number : \"))\n",
    "if n%2==0:\n",
    "    print(n,\" is even number.\")\n",
    "else:\n",
    "    print(n,\" is odd number.\")"
   ]
  },
  {
   "cell_type": "code",
   "execution_count": 3,
   "id": "5da27430-c222-43f2-8379-2c638333bf19",
   "metadata": {},
   "outputs": [
    {
     "name": "stdin",
     "output_type": "stream",
     "text": [
      "Enter the number : 5\n",
      "Enter the number : 8\n",
      "Enter the number : 9\n"
     ]
    },
    {
     "name": "stdout",
     "output_type": "stream",
     "text": [
      "5  is less than  8  and 9\n"
     ]
    }
   ],
   "source": [
    "#03.How can you use nested if-else statements in Python, and provide an example?\n",
    "\"\"\" Nested if-else statements in Python are like making decisions within decisions.\n",
    "You start with one big decision (the outer if statement), and if it's true,\n",
    "you can make another decision (an inner if statement). It's like opening boxes inside boxes:.\"\"\"\n",
    "#example of nested if-else statement\n",
    "num1= int(input(\"Enter the number :\"))\n",
    "num2= int(input(\"Enter the number :\"))\n",
    "num3= int(input(\"Enter the number :\"))\n",
    "if num1>num2:\n",
    "    if num2>num3:\n",
    "        print(num1,\" is greater than\",num2,\" and\",num3)\n",
    "\n",
    "else:\n",
    "    print(num1,\" is less than \",num2,\" and\",num3)\n"
   ]
  },
  {
   "cell_type": "code",
   "execution_count": 6,
   "id": "ea0c2012-97ab-4062-a299-ff2b7aa9d15c",
   "metadata": {},
   "outputs": [
    {
     "name": "stdin",
     "output_type": "stream",
     "text": [
      "Enter the 1st number : 11\n",
      "Enter the 2nd number : 15\n",
      "Enter the 3rd number : 25\n"
     ]
    },
    {
     "name": "stdout",
     "output_type": "stream",
     "text": [
      "25  is the largest number among  11 , 15  and 25\n"
     ]
    }
   ],
   "source": [
    "#04.Write a Python program to determine the largest of three numbers using if-else.\n",
    "num1= int(input(\"Enter the 1st number :\"))\n",
    "num2= int(input(\"Enter the 2nd number :\"))\n",
    "num3= int(input(\"Enter the 3rd number :\"))\n",
    "\n",
    "if num1>num2 and num1>num3:\n",
    "    print(num1,\" is largest among \",num1,\",\",num2,\" and\",num3)\n",
    "elif num2>num1 and num2>num3:\n",
    "    print(num2,\" is largest among \",num1,\",\",num2,\" and\",num3)\n",
    "else:\n",
    "    print(num3,\" is the largest number among \",num1,\",\",num2,\" and\",num3)"
   ]
  },
  {
   "cell_type": "code",
   "execution_count": 7,
   "id": "6bd69b9b-037c-409c-90c6-5ae0df045261",
   "metadata": {},
   "outputs": [
    {
     "name": "stdin",
     "output_type": "stream",
     "text": [
      "Enter a number :  -10\n"
     ]
    },
    {
     "name": "stdout",
     "output_type": "stream",
     "text": [
      "The absolute value of  -10 is  10\n"
     ]
    }
   ],
   "source": [
    "#05.Write a Python program that calculates the absolute value of a number using if-else.\n",
    "n = int(input(\"Enter a number : \"))\n",
    "\n",
    "if n<0:\n",
    "    print(\"The absolute value of \",n,\"is \",(-1)*n)\n",
    "else:\n",
    "    print(\"The absolute value of \",n,\"is \",n)"
   ]
  },
  {
   "cell_type": "code",
   "execution_count": 9,
   "id": "bb5903e4-271b-4f4a-928c-31fb1aaeb383",
   "metadata": {},
   "outputs": [
    {
     "name": "stdin",
     "output_type": "stream",
     "text": [
      "Entet a character :  w\n"
     ]
    },
    {
     "name": "stdout",
     "output_type": "stream",
     "text": [
      "w  is consonant\n"
     ]
    }
   ],
   "source": [
    "#06.Create a Python program that checks if a given character is a vowel or consonant using if-else.\n",
    "n = str(input(\"Entet a character : \"))\n",
    "v = \"aeiouAEIOU\"\n",
    "if n in v:\n",
    "    print(n,\" is vowel\")\n",
    "else:\n",
    "    print(n,\" is consonant\")"
   ]
  },
  {
   "cell_type": "code",
   "execution_count": 10,
   "id": "2436214d-b32b-42c2-8232-c435347c90c3",
   "metadata": {},
   "outputs": [
    {
     "name": "stdin",
     "output_type": "stream",
     "text": [
      "Enter your age :  15\n"
     ]
    },
    {
     "name": "stdout",
     "output_type": "stream",
     "text": [
      "You are not eligible  to vote.\n"
     ]
    }
   ],
   "source": [
    "#07.Write a Python program to determine if a user is eligible to vote based on their age using if-else.\n",
    "\n",
    "age = int(input(\"Enter your age : \"))\n",
    "if age>=18:\n",
    "    print(\"You are eligible  to vote.\")\n",
    "else:\n",
    "    print(\"You are not eligible  to vote.\")"
   ]
  },
  {
   "cell_type": "code",
   "execution_count": 11,
   "id": "86cabdce-b3d7-4fc0-bde1-06ff9f9a7217",
   "metadata": {},
   "outputs": [
    {
     "name": "stdin",
     "output_type": "stream",
     "text": [
      "Purchase amount :  10000\n"
     ]
    },
    {
     "name": "stdout",
     "output_type": "stream",
     "text": [
      "Discounted price:  9000.0\n"
     ]
    }
   ],
   "source": [
    "#08.Create a Python program that calculates the discount amount based on the purchase amount using if-else.\n",
    "n = int(input(\"Purchase amount : \"))\n",
    "if n >= 1000:\n",
    "    print(\"Discounted price: \",n*0.9) # 10% discount for purchases of Rs 100 or more\n",
    "else:\n",
    "    print(\"sorry no discount.\")"
   ]
  },
  {
   "cell_type": "code",
   "execution_count": 12,
   "id": "9e325be5-c8f1-40d5-9498-4604e243e38d",
   "metadata": {},
   "outputs": [
    {
     "name": "stdin",
     "output_type": "stream",
     "text": [
      "Enter a number :  6\n"
     ]
    },
    {
     "name": "stdout",
     "output_type": "stream",
     "text": [
      "6  is not a member of [5,10] \n"
     ]
    }
   ],
   "source": [
    "#09.Write a Python program to check if a number is within a specified range using if-else.\n",
    "n = int(input(\"Enter a number : \"))\n",
    "\n",
    "if n<=5 and n>=10:\n",
    "    print(n,\" is a member of [5,10]\")\n",
    "else:\n",
    "    print(n,\" is not a member of [5,10] \")\n"
   ]
  },
  {
   "cell_type": "code",
   "execution_count": 20,
   "id": "02d87389-1545-42fe-9d53-8b4e7d2d284e",
   "metadata": {},
   "outputs": [
    {
     "name": "stdin",
     "output_type": "stream",
     "text": [
      "Enter your score : 75\n"
     ]
    },
    {
     "name": "stdout",
     "output_type": "stream",
     "text": [
      "Your grade is B \n"
     ]
    }
   ],
   "source": [
    "#10.Create a Python program that determines the grade of a student based on their score using if-else.\n",
    "n = float(input(\"Enter your score :\"))\n",
    "if n>=80:\n",
    "    print(\"Your grade is A\")\n",
    "elif n>=70 and n<80:\n",
    "    print(\"Your grade is B \")\n",
    "elif n>=60 and n<70:\n",
    "    print(\"Your grade is C\")\n",
    "else:\n",
    "    print(\"Your grade is D\")\n",
    "    "
   ]
  },
  {
   "cell_type": "code",
   "execution_count": 22,
   "id": "8f1ad8ca-8456-46fe-9c00-faa1cba5aa75",
   "metadata": {},
   "outputs": [
    {
     "name": "stdin",
     "output_type": "stream",
     "text": [
      " ami\n"
     ]
    },
    {
     "name": "stdout",
     "output_type": "stream",
     "text": [
      "string is not empty\n"
     ]
    }
   ],
   "source": [
    "#11.Write a Python program to check if a string is empty or not using if-else.\n",
    "n = input()\n",
    "if n==\"\":\n",
    "    print(\"string is empty\")\n",
    "else:\n",
    "    print(\"string is not empty\")"
   ]
  },
  {
   "cell_type": "code",
   "execution_count": 23,
   "id": "b63f1ba2-202c-40ce-884b-e5c618480929",
   "metadata": {},
   "outputs": [
    {
     "name": "stdin",
     "output_type": "stream",
     "text": [
      "1st side :  5\n",
      "2nd side :  6\n",
      "3rd side :  8\n"
     ]
    },
    {
     "name": "stdout",
     "output_type": "stream",
     "text": [
      "Scalene triangle\n"
     ]
    }
   ],
   "source": [
    "#12.Create a Python program that identifies the type of a triangle (e.g., equilateral, isosceles, or scalene) based on input values using if-else.\n",
    "\n",
    "a = float(input(\"1st side : \"))\n",
    "b = float(input(\"2nd side : \"))\n",
    "c = float(input(\"3rd side : \"))\n",
    "\n",
    "if a==b==c:\n",
    "    print(\"Equilateral triangle \")\n",
    "elif a==b or b==c or c==a:\n",
    "    print(\"Isosceles triangle\")\n",
    "else:\n",
    "    print(\"Scalene triangle\")"
   ]
  },
  {
   "cell_type": "code",
   "execution_count": 24,
   "id": "4601129f-c6b2-4fd6-b4d4-bc4506710b88",
   "metadata": {},
   "outputs": [
    {
     "name": "stdin",
     "output_type": "stream",
     "text": [
      "Enter a number : 5\n"
     ]
    },
    {
     "name": "stdout",
     "output_type": "stream",
     "text": [
      "5  for thursday\n"
     ]
    }
   ],
   "source": [
    "#13.Write a Python program to determine the day of the week based on a user-provided number using if-else.\n",
    "n = int(input(\"Enter a number :\"))\n",
    "if n==1:\n",
    "    print(n,\" for sunday\")\n",
    "elif n==2:\n",
    "    print(n,\" for monday\")\n",
    "elif n==3:\n",
    "    print(n,\" for tuesday\")\n",
    "elif n==4:\n",
    "    print(n,\" for wednesday\")\n",
    "elif n==5:\n",
    "    print(n,\" for thursday\")\n",
    "elif n==6:\n",
    "    print(n,\" for friday\")\n",
    "elif n==7:\n",
    "    print(n,\" for saturday\")\n",
    "else:\n",
    "    print(\"not valid\")"
   ]
  },
  {
   "cell_type": "code",
   "execution_count": 25,
   "id": "bce19dbb-c202-424d-b952-c10424d8f262",
   "metadata": {},
   "outputs": [
    {
     "name": "stdin",
     "output_type": "stream",
     "text": [
      "Enter a year :  2020\n"
     ]
    },
    {
     "name": "stdout",
     "output_type": "stream",
     "text": [
      "2020  is leap year\n"
     ]
    }
   ],
   "source": [
    "#14.Create a Python program that checks if a given year is a leap year using both if-else and a function.\n",
    "yer = int(input(\"Enter a year : \"))\n",
    "\n",
    "if yer%4==0:\n",
    "    print(yer,\" is leap year\")\n",
    "else:\n",
    "    print(yer,\" isn't leap year\")"
   ]
  },
  {
   "cell_type": "code",
   "execution_count": 26,
   "id": "a0efa1ca-3f62-45b4-9f78-bb26dcfc3998",
   "metadata": {},
   "outputs": [
    {
     "name": "stdin",
     "output_type": "stream",
     "text": [
      "Enter a year:  2020\n"
     ]
    },
    {
     "data": {
      "text/plain": [
       "True"
      ]
     },
     "execution_count": 26,
     "metadata": {},
     "output_type": "execute_result"
    }
   ],
   "source": [
    "# By using function\n",
    "def leap_year(year):\n",
    "    if year%4==0 :\n",
    "        return True\n",
    "    else:\n",
    "        return False\n",
    "year = int(input(\"Enter a year: \"))\n",
    "\n",
    "leap_year(year)"
   ]
  },
  {
   "cell_type": "code",
   "execution_count": 6,
   "id": "06de4392-d722-45ed-b128-752b4738fb27",
   "metadata": {},
   "outputs": [
    {
     "name": "stdout",
     "output_type": "stream",
     "text": [
      "AssertionError: Division by zero is not allowed\n"
     ]
    }
   ],
   "source": [
    "#15.How do you use the \"assert\" statement in Python to add debugging checks within if-else blocks?\n",
    "def divide(a, b):\n",
    "    assert b != 0, \"Division by zero is not allowed\"\n",
    "    return a / b\n",
    "\n",
    "numerator = 10\n",
    "denominator = 0\n",
    "\n",
    "try:\n",
    "    result = divide(numerator, denominator)\n",
    "    print(f\"Result: {result}\")\n",
    "except AssertionError as e:\n",
    "    print(f\"AssertionError: {e}\")\n",
    "except ZeroDivisionError as e:\n",
    "    print(f\"ZeroDivisionError: {e}\")\n"
   ]
  },
  {
   "cell_type": "code",
   "execution_count": 1,
   "id": "597365e6-6fd2-4d32-8987-5c0c38917122",
   "metadata": {},
   "outputs": [
    {
     "name": "stdin",
     "output_type": "stream",
     "text": [
      "Enter age :  65\n"
     ]
    },
    {
     "name": "stdout",
     "output_type": "stream",
     "text": [
      "Person is senier and he\\she eligible for discount\n"
     ]
    }
   ],
   "source": [
    "#16.Create a Python program that determines the eligibility of a person for a senior citizen discount based on age using if-else.\n",
    "\n",
    "age = int(input(\"Enter age : \"))\n",
    "if age>=60:\n",
    "    print(\"Person is senier and he\\she eligible for discount\")\n",
    "else:\n",
    "    print(\"He\\She not eligible for discount\")"
   ]
  },
  {
   "cell_type": "code",
   "execution_count": null,
   "id": "fc32c680-7893-4727-8649-0cf9928103d2",
   "metadata": {},
   "outputs": [],
   "source": []
  },
  {
   "cell_type": "code",
   "execution_count": 3,
   "id": "99c1b1f5-c981-4339-9ed1-37cf9e2b94f1",
   "metadata": {},
   "outputs": [
    {
     "name": "stdin",
     "output_type": "stream",
     "text": [
      "Enter a character :  l\n"
     ]
    },
    {
     "name": "stdout",
     "output_type": "stream",
     "text": [
      "l  is lowercase\n"
     ]
    }
   ],
   "source": [
    "#17.Write a Python program to categorize a given character as uppercase, lowercase, or neither using if-else.\n",
    "char = input(\"Enter a character : \")\n",
    "\n",
    "u =\"ABCDEFGHIJKLMNOPQRSTUVWXYZ\"\n",
    "l =\"abcdefghijklmnopqrstuvwxyz\"\n",
    "if char in u:\n",
    "    print(char,\" is uppercase\")\n",
    "elif char in l:\n",
    "    print(char,\" is lowercase\")\n",
    "else:\n",
    "    print(char,\"not a uppercase nither lowercase\")"
   ]
  },
  {
   "cell_type": "code",
   "execution_count": 10,
   "id": "1532bbc6-8395-4aae-a472-c06819676e0a",
   "metadata": {},
   "outputs": [
    {
     "name": "stdin",
     "output_type": "stream",
     "text": [
      "Enter the coefficient 'a':  1\n",
      "Enter the coefficient 'b':  5\n",
      "Enter the coefficient 'c':  2\n"
     ]
    },
    {
     "name": "stdout",
     "output_type": "stream",
     "text": [
      "The roots are real and distinct: -0.4384471871911697 and -4.561552812808831\n"
     ]
    }
   ],
   "source": [
    "#18.Write a Python program to determine the roots of a quadratic equation using if-else.\n",
    "\n",
    "# Input coefficients of the quadratic equation\n",
    "a = float(input(\"Enter the coefficient 'a': \"))\n",
    "b = float(input(\"Enter the coefficient 'b': \"))\n",
    "c = float(input(\"Enter the coefficient 'c': \"))\n",
    "\n",
    "# Calculate the discriminant\n",
    "discriminant = b**2 - 4*a*c\n",
    "\n",
    "# Check the value of the discriminant using if-else statements\n",
    "if discriminant > 0:\n",
    "    # Two real and distinct roots\n",
    "    root1 = (-b + (discriminant ** 0.5)) / (2*a)\n",
    "    root2 = (-b - (discriminant ** 0.5)) / (2*a)\n",
    "    print(f\"The roots are real and distinct: {root1} and {root2}\")\n",
    "elif discriminant == 0:\n",
    "    # One real root (repeated)\n",
    "    root1 = -b / (2*a)\n",
    "    print(f\"The root is real and repeated: {root1}\")\n",
    "else:\n",
    "    # Complex roots\n",
    "    real_part = -b / (2*a)\n",
    "    imaginary_part = (abs(discriminant) ** 0.5) / (2*a)\n",
    "    print(f\"The roots are complex: {real_part} + {imaginary_part}i and {real_part} - {imaginary_part}i\")\n",
    "\n",
    "          "
   ]
  },
  {
   "cell_type": "code",
   "execution_count": 1,
   "id": "a65f759c-5c6c-4794-9105-56ee30fcf0f4",
   "metadata": {},
   "outputs": [
    {
     "name": "stdin",
     "output_type": "stream",
     "text": [
      "Enter a year :  2000\n"
     ]
    },
    {
     "name": "stdout",
     "output_type": "stream",
     "text": [
      "2000  is century\n"
     ]
    }
   ],
   "source": [
    "#19.Create a Python program that checks if a given year is a century year or not using if-else.\n",
    "year = int(input(\"Enter a year : \"))\n",
    "if year % 100==0:\n",
    "    print(year,\" is century\")\n",
    "else:\n",
    "    print(year,\" isn't century\")"
   ]
  },
  {
   "cell_type": "code",
   "execution_count": 7,
   "id": "c60af21b-5f67-4fb0-a651-bd619192980a",
   "metadata": {},
   "outputs": [
    {
     "name": "stdin",
     "output_type": "stream",
     "text": [
      "Enter a number : 21\n"
     ]
    },
    {
     "name": "stdout",
     "output_type": "stream",
     "text": [
      "21  isn't perfect square\n"
     ]
    }
   ],
   "source": [
    "#20.Write a Python program to determine if a given number is a perfect square using if-else.\n",
    "n = int(input(\"Enter a number :\"))\n",
    "sq_root = n**0.5\n",
    "\n",
    "if sq_root == int(n**0.5) :\n",
    "    print(n,\" is perfect square\")\n",
    "else:\n",
    "    print(n,\" isn't perfect square\")\n"
   ]
  },
  {
   "cell_type": "code",
   "execution_count": 10,
   "id": "cd9ff82c-f729-4cde-ab50-9dd7ceb52e34",
   "metadata": {},
   "outputs": [
    {
     "data": {
      "text/plain": [
       "' The \"break\" statement is used to exit a loop prematurely, even if the loop condition is not met.'"
      ]
     },
     "execution_count": 10,
     "metadata": {},
     "output_type": "execute_result"
    }
   ],
   "source": [
    "#21.Explain the purpose of the \"continue\" and \"break\" statements within if-else loops.\n",
    "\"\"\" The \"continue\" statement is used to skip the rest of the current iteration of a loop and move to the next iteration.\"\"\"\n",
    "\n",
    "\"\"\" The \"break\" statement is used to exit a loop prematurely, even if the loop condition is not met.\"\"\"\n",
    "\n",
    "\n"
   ]
  },
  {
   "cell_type": "code",
   "execution_count": 11,
   "id": "14d220ac-2ded-4fc5-8df7-fef6e8a7068e",
   "metadata": {},
   "outputs": [
    {
     "name": "stdin",
     "output_type": "stream",
     "text": [
      "Enter your weight (kg):  67\n",
      "Enter your height (m):  2.5\n"
     ]
    },
    {
     "name": "stdout",
     "output_type": "stream",
     "text": [
      "Your BMI is 10.72\n",
      "Category: Underweight\n"
     ]
    }
   ],
   "source": [
    "#22.Create a Python program that calculates the BMI (Body Mass Index) of a person based on their weight and height using if-else.\n",
    "weight = float(input(\"Enter your weight (kg): \"))\n",
    "height = float(input(\"Enter your height (m): \"))\n",
    "\n",
    "# Calculate BMI\n",
    "bmi = weight / (height ** 2)\n",
    "\n",
    "if bmi < 18.5:\n",
    "    category = \"Underweight\"\n",
    "elif 18.5 <= bmi < 24.9:\n",
    "    category = \"Normal Weight\"\n",
    "elif 24.9 <= bmi < 29.9:\n",
    "    category = \"Overweight\"\n",
    "else:\n",
    "    category = \"Obese\"\n",
    "\n",
    "print(f\"Your BMI is {bmi:.2f}\")\n",
    "print(f\"Category: {category}\")\n",
    "\n"
   ]
  },
  {
   "cell_type": "code",
   "execution_count": 12,
   "id": "4b06f712-b97f-4f5d-9510-6124dab2ca1e",
   "metadata": {},
   "outputs": [
    {
     "name": "stdout",
     "output_type": "stream",
     "text": [
      "[2, 4, 6, 8, 10]\n"
     ]
    }
   ],
   "source": [
    "#23.How can you use the \"filter()\" function with if-else statements to filter elements from a list?\n",
    "\"\"\"The filter() function in Python is used to filter elements from an iterable (e.g., a list) based on a specified\n",
    "condition or predicate. While you can't directly use if-else statements within filter() itself, you can use a custom \n",
    "function or lambda function that returns True or False based on your condition.\"\"\"\n",
    "# Define a list of numbers\n",
    "numbers = [1, 2, 3, 4, 5, 6, 7, 8, 9, 10]\n",
    "\n",
    "# Define a custom function to filter even numbers\n",
    "def is_even(number):\n",
    "    if number % 2 == 0:\n",
    "        return True\n",
    "    else:\n",
    "        return False\n",
    "\n",
    "# Use the filter() function with the custom function\n",
    "even_numbers = filter(is_even, numbers)\n",
    "\n",
    "# Convert the filter object to a list (if needed)\n",
    "even_numbers_list = list(even_numbers)\n",
    "\n",
    "# Print the filtered even numbers\n",
    "print(even_numbers_list)\n"
   ]
  },
  {
   "cell_type": "code",
   "execution_count": 14,
   "id": "93c8704f-0c1b-4b76-9d11-1431d52c7dde",
   "metadata": {},
   "outputs": [
    {
     "name": "stdin",
     "output_type": "stream",
     "text": [
      "Enter a number :  6\n"
     ]
    },
    {
     "name": "stdout",
     "output_type": "stream",
     "text": [
      "6  is not prime number\n"
     ]
    }
   ],
   "source": [
    "#24.Write a Python program to determine if a given number is prime or not using if-else.\n",
    "n = int(input(\"Enter a number : \"))\n",
    "for i in range(2,n):\n",
    "    if n%i==0:\n",
    "        print(n,\" is not prime number\")\n",
    "        break\n",
    "else:\n",
    "    print(n,\" is prime number\")"
   ]
  },
  {
   "cell_type": "raw",
   "id": "4e0ed317-ae7a-4719-a883-902adb8df055",
   "metadata": {},
   "source": [
    "map:-"
   ]
  },
  {
   "cell_type": "code",
   "execution_count": 2,
   "id": "22e8d29c-decc-4267-bb8d-f192da1f99a5",
   "metadata": {},
   "outputs": [
    {
     "name": "stdout",
     "output_type": "stream",
     "text": [
      "[1, 4, 9, 16, 25]\n"
     ]
    }
   ],
   "source": [
    "#01.Explain the purpose of the `map()` function in Python and provide an example of how it can be used to apply a function to each element of an iterable.\n",
    "\"\"\"The map() function in Python is a built-in function that is used to apply a specified function to each item in an\n",
    "iterable (such as a list, tuple, or any other iterable object) and returns a map object, which is an iterator.\n",
    "The purpose of map() is to efficiently transform the elements of an iterable without the need for explicit loops,\n",
    "making code more concise and readable.\"\"\"\n",
    "#example\n",
    "def square(x):\n",
    "    return x ** 2\n",
    "numbers = [1, 2, 3, 4, 5]\n",
    "squared_numbers = map(square, numbers)\n",
    "squared_numbers_list = list(squared_numbers)\n",
    "print(squared_numbers_list) \n",
    "\n"
   ]
  },
  {
   "cell_type": "code",
   "execution_count": 3,
   "id": "7b2f4532-c48f-412d-8b2a-5a52586947c5",
   "metadata": {},
   "outputs": [
    {
     "name": "stdout",
     "output_type": "stream",
     "text": [
      "[1, 4, 9, 16, 25]\n"
     ]
    }
   ],
   "source": [
    "#02.Write a Python program that uses the `map()` function to square each element of a list of numbers.\n",
    "def square(x):\n",
    "    return x ** 2\n",
    "numbers = [1, 2, 3, 4, 5]\n",
    "squared_numbers = map(square, numbers)\n",
    "squared_numbers_list = list(squared_numbers)\n",
    "print(squared_numbers_list) \n"
   ]
  },
  {
   "cell_type": "code",
   "execution_count": null,
   "id": "63ca4b99-0876-4b6c-8fa6-ffaa78946e10",
   "metadata": {},
   "outputs": [],
   "source": [
    "#03.How does the `map()` function differ from a list comprehension in Python, and when would you choose one over the other?\n",
    "\"\"\"The map() function and list comprehensions in Python serve similar purposes, allowing you to transform elements in an iterable. \n",
    "However, they differ in syntax and use cases. Use map() when you have a predefined function, need to apply it to multiple elements\n",
    "in an iterable, or work with multiple iterables simultaneously. On the other hand, opt for list comprehensions for simpler transformations\n",
    "expressed directly as expressions, promoting code clarity and conciseness. In most cases, especially for basic operations, \n",
    "list comprehensions are favored for their simplicity and readability.\"\"\""
   ]
  },
  {
   "cell_type": "code",
   "execution_count": 2,
   "id": "2159cf02-ddb1-4f68-991e-2dfd891e2560",
   "metadata": {},
   "outputs": [
    {
     "name": "stdout",
     "output_type": "stream",
     "text": [
      "['ALICE', 'BOB', 'CHARLIE', 'DAVID']\n"
     ]
    }
   ],
   "source": [
    "#04.Create a Python program that uses the `map()` function to convert a list of names to uppercase.\n",
    "\n",
    "\n",
    "names = [\"Alice\", \"Bob\", \"Charlie\", \"David\"]\n",
    "uppercased_names = list(map(str.upper, names))\n",
    "print(uppercased_names)\n"
   ]
  },
  {
   "cell_type": "code",
   "execution_count": 3,
   "id": "504c017b-2fe4-4cbd-9e81-b399598197a9",
   "metadata": {},
   "outputs": [
    {
     "name": "stdout",
     "output_type": "stream",
     "text": [
      "[5, 6, 6, 4]\n"
     ]
    }
   ],
   "source": [
    "#05.Write a Python program that uses the `map()` function to calculate the length of each word in a list of strings.\n",
    "words = [\"apple\", \"banana\", \"cherry\", \"date\"]\n",
    "word_lengths = list(map(len, words))\n",
    "print(word_lengths)\n"
   ]
  },
  {
   "cell_type": "code",
   "execution_count": 4,
   "id": "89c6b83a-def7-48af-9eb5-238faa344696",
   "metadata": {},
   "outputs": [
    {
     "name": "stdout",
     "output_type": "stream",
     "text": [
      "[5, 12, 21, 32]\n"
     ]
    }
   ],
   "source": [
    "#06.How can you use the `map()` function to apply a custom function to elements of multiple lists simultaneously in Python?\n",
    "def custom_function(x, y):\n",
    "    return x * y\n",
    "\n",
    "list1 = [1, 2, 3, 4]\n",
    "list2 = [5, 6, 7, 8]\n",
    "result = list(map(custom_function, list1, list2))\n",
    "print(result)  \n"
   ]
  },
  {
   "cell_type": "code",
   "execution_count": 5,
   "id": "9aea84bc-ee7e-48c3-9c6a-86c455137766",
   "metadata": {},
   "outputs": [
    {
     "name": "stdout",
     "output_type": "stream",
     "text": [
      "[32.0, 50.0, 68.0, 86.0, 104.0]\n"
     ]
    }
   ],
   "source": [
    "#07.Create a Python program that uses `map()` to convert a list of temperatures from Celsius to Fahrenheit.\n",
    "\n",
    "def celsius_to_fahrenheit(celsius):\n",
    "    return (celsius * 9/5) + 32\n",
    "\n",
    "celsius_temperatures = [0, 10, 20, 30, 40]\n",
    "fahrenheit_temperatures = list(map(celsius_to_fahrenheit, celsius_temperatures))\n",
    "\n",
    "print(fahrenheit_temperatures)\n"
   ]
  },
  {
   "cell_type": "code",
   "execution_count": 6,
   "id": "ab0d41b6-9089-420d-8d47-7a4e9c36719d",
   "metadata": {},
   "outputs": [
    {
     "name": "stdout",
     "output_type": "stream",
     "text": [
      "[3, 3, 2, 5]\n"
     ]
    }
   ],
   "source": [
    "#08.Write a Python program that uses the `map()` function to round each element of a list of floating-point numbers to the nearest integer.\n",
    "float_numbers = [3.14, 2.718, 1.618, 4.669]\n",
    "rounded_numbers = list(map(round, float_numbers))\n",
    "print(rounded_numbers)\n"
   ]
  },
  {
   "cell_type": "code",
   "execution_count": null,
   "id": "bf23c967-3b0d-4f87-bb4a-651cf6196880",
   "metadata": {},
   "outputs": [],
   "source": []
  },
  {
   "cell_type": "raw",
   "id": "e2f5bffc-caad-4329-baa7-18d7565786e8",
   "metadata": {},
   "source": [
    "Reduce :-\n"
   ]
  },
  {
   "cell_type": "code",
   "execution_count": 7,
   "id": "53f9b521-8309-4c8e-84ce-ccb0df24adc8",
   "metadata": {},
   "outputs": [
    {
     "name": "stdout",
     "output_type": "stream",
     "text": [
      "120\n"
     ]
    }
   ],
   "source": [
    "#01.What is the `reduce()` function in Python, and what module should you import to use it? Provide an example of its basic usage.\n",
    "\"\"\"The reduce() function in Python is a built-in function used for performing a cumulative or iterative operation on the items of an \n",
    "iterable (e.g., a list or tuple). To use the reduce() function, you need to import it from the functools module.\"\"\"\n",
    "#example\n",
    "from functools import reduce\n",
    "\n",
    "numbers = [1, 2, 3, 4, 5]\n",
    "def multiply(x, y):\n",
    "    return x * y\n",
    "product = reduce(multiply, numbers)\n",
    "\n",
    "print(product)  \n"
   ]
  },
  {
   "cell_type": "code",
   "execution_count": 8,
   "id": "f064d5e5-6edf-494c-ad8c-9b5519f1c40f",
   "metadata": {},
   "outputs": [
    {
     "name": "stdout",
     "output_type": "stream",
     "text": [
      "120\n"
     ]
    }
   ],
   "source": [
    "#02.Write a Python program that uses the `reduce()` function to find the product of all elements in a list.\n",
    "from functools import reduce\n",
    "\n",
    "numbers = [1, 2, 3, 4, 5]\n",
    "def multiply(x, y):\n",
    "    return x * y\n",
    "product = reduce(multiply, numbers)\n",
    "\n",
    "print(product) \n"
   ]
  },
  {
   "cell_type": "code",
   "execution_count": 13,
   "id": "59937108-648c-4124-b8a4-d4547d190abc",
   "metadata": {},
   "outputs": [
    {
     "name": "stdout",
     "output_type": "stream",
     "text": [
      "45\n"
     ]
    }
   ],
   "source": [
    "#03.Create a Python program that uses `reduce()` to find the maximum element in a list of numbers.\n",
    "from functools import reduce\n",
    "\n",
    "numbers = [15, 7, 22, 33, 45, 10, 3]\n",
    "max_number = reduce(lambda x, y: x if x > y else y, numbers)\n",
    "\n",
    "print(max_number)  \n"
   ]
  },
  {
   "cell_type": "code",
   "execution_count": 9,
   "id": "a07cad34-a4c4-4194-83ec-15338a1415d6",
   "metadata": {},
   "outputs": [
    {
     "name": "stdout",
     "output_type": "stream",
     "text": [
      "Hello, world!\n"
     ]
    }
   ],
   "source": [
    "#04.How can you use the `reduce()` function to concatenate a list of strings into a single string?\n",
    "from functools import reduce\n",
    "\n",
    "strings = [\"Hello\", \", \", \"world\", \"!\"]\n",
    "def concatenate_strings(x, y):\n",
    "    return x + y\n",
    "\n",
    "result = reduce(concatenate_strings, strings)\n",
    "print(result)  \n"
   ]
  },
  {
   "cell_type": "code",
   "execution_count": 10,
   "id": "7496d351-318e-4a64-9528-2999de8fd33c",
   "metadata": {},
   "outputs": [
    {
     "name": "stdout",
     "output_type": "stream",
     "text": [
      "The factorial of 5 is 120\n"
     ]
    }
   ],
   "source": [
    "#05.Write a Python program that calculates the factorial of a number using the `reduce()` function.\n",
    "from functools import reduce\n",
    "\n",
    "def factorial(n, x):\n",
    "    return n * x\n",
    "number = 5\n",
    "numbers = list(range(1, number + 1))\n",
    "factorial_result = reduce(factorial, numbers, 1)\n",
    "\n",
    "print(f\"The factorial of {number} is {factorial_result}\")\n"
   ]
  },
  {
   "cell_type": "code",
   "execution_count": 11,
   "id": "7f1eb4e5-01c9-4321-acee-17d1336cf73a",
   "metadata": {},
   "outputs": [
    {
     "name": "stdout",
     "output_type": "stream",
     "text": [
      "The GCD of [12, 18, 24, 30] is 6\n"
     ]
    }
   ],
   "source": [
    "#06.Create a Python program that uses `reduce()` to find the GCD (Greatest Common Divisor) of a list of numbers.\n",
    "from functools import reduce\n",
    "import math\n",
    "numbers = [12, 18, 24, 30]\n",
    "gcd_result = reduce(math.gcd, numbers)\n",
    "\n",
    "print(f\"The GCD of {numbers} is {gcd_result}\")\n"
   ]
  },
  {
   "cell_type": "code",
   "execution_count": 12,
   "id": "616350b9-6926-4f4a-9141-c24a19cfc4d4",
   "metadata": {},
   "outputs": [
    {
     "name": "stdout",
     "output_type": "stream",
     "text": [
      "The sum of the digits of 12345 is 15\n"
     ]
    }
   ],
   "source": [
    "#07.Write a Python program that uses the `reduce()` function to find the sum of the digits of a given number.\n",
    "from functools import reduce\n",
    "def sum_digits(x, y):\n",
    "    return int(x) + int(y)\n",
    "number = 12345\n",
    "digit_strings = list(str(number))\n",
    "\n",
    "digit_sum = reduce(sum_digits, digit_strings)\n",
    "\n",
    "print(f\"The sum of the digits of {number} is {digit_sum}\")\n"
   ]
  },
  {
   "cell_type": "code",
   "execution_count": null,
   "id": "d9fe6c58-5889-43f9-94a6-742853b9da0d",
   "metadata": {},
   "outputs": [],
   "source": []
  },
  {
   "cell_type": "raw",
   "id": "8bac5849-0650-4d5e-8b63-5b39e3bbaa10",
   "metadata": {},
   "source": [
    "Filter :-\n"
   ]
  },
  {
   "cell_type": "code",
   "execution_count": 2,
   "id": "5fe53313-d591-4f9a-bd45-bcf7ec6cd030",
   "metadata": {},
   "outputs": [
    {
     "data": {
      "text/plain": [
       "[2, 4, 6, 8, 10]"
      ]
     },
     "execution_count": 2,
     "metadata": {},
     "output_type": "execute_result"
    }
   ],
   "source": [
    "#01.Explain the purpose of the `filter()` function in Python and provide an example of how it can be used to filter elements from an iterable.\n",
    "\"\"\"The filter() function in Python is used to filter elements from an iterable (such as a list, tuple, or other iterable) based on \n",
    "a specified condition or function. It creates a new iterable containing only the elements for which the condition or function returns True.\"\"\"\n",
    "#example\n",
    "l = [1,2,3,4,5,6,7,8,9,10]\n",
    "list(filter(lambda a : a%2==0,l))"
   ]
  },
  {
   "cell_type": "code",
   "execution_count": 3,
   "id": "10457749-b779-410a-8835-d9724694931c",
   "metadata": {},
   "outputs": [
    {
     "data": {
      "text/plain": [
       "[2, 4, 6, 8, 10]"
      ]
     },
     "execution_count": 3,
     "metadata": {},
     "output_type": "execute_result"
    }
   ],
   "source": [
    "#02.Write a Python program that uses the `filter()` function to select even numbers from a list of integers.\n",
    "List = [1,2,3,4,5,6,7,8,9,10] \n",
    "list(filter(lambda a : a%2 ==0 ,List))"
   ]
  },
  {
   "cell_type": "code",
   "execution_count": 35,
   "id": "13b27e5e-07c8-48c1-9de6-f1732b12d293",
   "metadata": {},
   "outputs": [
    {
     "data": {
      "text/plain": [
       "['Pikachu', 'Psyduck']"
      ]
     },
     "execution_count": 35,
     "metadata": {},
     "output_type": "execute_result"
    }
   ],
   "source": [
    "#03.Create a Python program that uses the `filter()` function to select names that start with a specific letter from a list of strings.\n",
    "l = [\"Pikachu\", \"Charizard\", \"Bulbasaur\", \"Squirtle\", \"Jigglypuff\", \"Snorlax\", \"Eevee\", \"Gengar\", \"Mewtwo\", \"Psyduck\", \"Gyarados\", \"Blastoise\", \"Charmander\", \"Vaporeon\", \"Dragonite\", \"Zapdos\", \"Moltres\", \"Articuno\", \"Meowth\", \"Golem\"]\n",
    "list(filter(lambda a :a.startswith(\"P\"),l))"
   ]
  },
  {
   "cell_type": "code",
   "execution_count": 53,
   "id": "85303d00-b13a-436a-92a1-407812f61e0f",
   "metadata": {},
   "outputs": [
    {
     "data": {
      "text/plain": [
       "[2, 3, 5, 7]"
      ]
     },
     "execution_count": 53,
     "metadata": {},
     "output_type": "execute_result"
    }
   ],
   "source": [
    "#04.Write a Python program that uses the `filter()` function to select prime numbers from a list of integers.\n",
    "l = [1,2,3,4,5,6,7,8,9]\n",
    "list(filter(lambda n: all(n % i != 0 for i in range(2, int(n**0.5) + 1)) and n > 1, l))"
   ]
  },
  {
   "cell_type": "code",
   "execution_count": 54,
   "id": "76c353d2-8e63-4913-a695-87edf0b9ad78",
   "metadata": {},
   "outputs": [
    {
     "data": {
      "text/plain": [
       "[1, 2, 3, 4, 5]"
      ]
     },
     "execution_count": 54,
     "metadata": {},
     "output_type": "execute_result"
    }
   ],
   "source": [
    "#05.How can you use the `filter()` function to remove None values from a list in Python?\n",
    "\"\"\"We can use the filter() function to remove None values from a list in Python by providing a custom\n",
    "filtering function that excludes None values.\"\"\"\n",
    "#Here's an example:\n",
    "values = [1, None, 2, None, 3, 4, None, 5]\n",
    "list(filter(lambda x: x is not None, values))\n",
    "\n"
   ]
  },
  {
   "cell_type": "code",
   "execution_count": 57,
   "id": "1af9bc1a-350a-47f5-b830-5bb3a7c00679",
   "metadata": {},
   "outputs": [
    {
     "name": "stdout",
     "output_type": "stream",
     "text": [
      "['Pikachu', 'Charizard', 'Bulbasaur', 'Squirtle', 'Jigglypuff', 'Snorlax', 'Gengar', 'Mewtwo', 'Psyduck', 'Gyarados', 'Blastoise', 'Charmander', 'Vaporeon', 'Dragonite', 'Zapdos', 'Moltres', 'Articuno', 'Meowth'] "
     ]
    }
   ],
   "source": [
    "#06.Create a Python program that uses `filter()` to select words longer than a certain length from a list of strings.\n",
    "l = [\"Pikachu\", \"Charizard\", \"Bulbasaur\", \"Squirtle\", \"Jigglypuff\", \"Snorlax\", \"Eevee\", \"Gengar\", \"Mewtwo\", \"Psyduck\", \"Gyarados\", \"Blastoise\", \"Charmander\", \"Vaporeon\", \"Dragonite\", \"Zapdos\", \"Moltres\", \"Articuno\", \"Meowth\", \"Golem\"]\n",
    "b=list(filter(lambda a: len(a) > 5, l))\n",
    "print(b,end=\" \")"
   ]
  },
  {
   "cell_type": "code",
   "execution_count": 58,
   "id": "9f9461e2-97de-4d8c-8bca-d3d7336fc2cf",
   "metadata": {},
   "outputs": [
    {
     "data": {
      "text/plain": [
       "[25, 30, 40]"
      ]
     },
     "execution_count": 58,
     "metadata": {},
     "output_type": "execute_result"
    }
   ],
   "source": [
    "#07.Write a Python program that uses the `filter()` function to select elements greater than a specified threshold from a list of values.\n",
    "\n",
    "values = [10, 25, 5, 30, 15, 40, 20]\n",
    "threshold = 20\n",
    "list(filter(lambda x: x > 22, values))\n",
    "\n"
   ]
  },
  {
   "cell_type": "code",
   "execution_count": null,
   "id": "991cbb1d-70d1-4a1b-8336-34dc18529e78",
   "metadata": {},
   "outputs": [],
   "source": []
  },
  {
   "cell_type": "raw",
   "id": "de0d0b7c-7ae2-4ed0-94c4-2ca6f6be3deb",
   "metadata": {},
   "source": [
    "Recursion:-\n"
   ]
  },
  {
   "cell_type": "code",
   "execution_count": null,
   "id": "2240e912-54ab-45ab-99df-3b2f1a1d2a88",
   "metadata": {},
   "outputs": [],
   "source": [
    "#01.Explain the concept of recursion in Python. How does it differ from iteration?\n",
    "\"\"\" Recursion is about solving a problem by breaking it into smaller, similar subproblems and solving them recursively.\n",
    "Iteration is about doing something repeatedly in a straightforward way until you reach your goal. Both are problem-solving \n",
    "techniques in programming, and the choice depends on the nature of the problem.\n",
    "\"\"\"\n",
    "\n",
    "\"\"\"\n",
    "Recursion:\n",
    "\n",
    "Recursion is like solving a big puzzle by breaking it into smaller pieces of the same puzzle. You solve each smaller piece \n",
    "in a similar way until you have the solution for the smallest, simplest piece (the base case). Then, you put the solutions \n",
    "of the smaller pieces together to get the solution for the big puzzle.\n",
    "\n",
    "\n",
    "\n",
    "Iteration:\n",
    "\n",
    "Iteration is like doing something repeatedly until you achieve a specific goal. It's like counting numbers one by one until you \n",
    "reach a target number.\n",
    "\n",
    "Think of climbing stairs. You want to reach the top. Instead of taking a giant leap, you take one step at a time. You keep taking\n",
    "steps until you reach the top. Each step is similar to the others, and you repeat the same action (taking a step) until you achieve \n",
    "your goal (reaching the top).\n",
    "\n",
    "\n",
    "\"\"\"\n",
    "\n",
    "\n",
    "\n",
    "\n",
    "\n"
   ]
  },
  {
   "cell_type": "code",
   "execution_count": 60,
   "id": "04c4410c-9bd7-48da-99ff-a0f693e2e84a",
   "metadata": {},
   "outputs": [
    {
     "data": {
      "text/plain": [
       "120"
      ]
     },
     "execution_count": 60,
     "metadata": {},
     "output_type": "execute_result"
    }
   ],
   "source": [
    "#02.Write a Python program to calculate the factorial of a number using recursion.\n",
    "def fact_num(n):\n",
    "    if n==0:\n",
    "        return 1\n",
    "    else:\n",
    "        return n*fact_num(n-1)\n",
    "fact_num(5)"
   ]
  },
  {
   "cell_type": "code",
   "execution_count": 63,
   "id": "67aca016-4256-4535-aa04-4c05b5e005aa",
   "metadata": {},
   "outputs": [
    {
     "data": {
      "text/plain": [
       "8"
      ]
     },
     "execution_count": 63,
     "metadata": {},
     "output_type": "execute_result"
    }
   ],
   "source": [
    "#03.Create a recursive Python function to find the nth Fibonacci number.\n",
    "def Fibonacci_number(n):\n",
    "    if n<=1:\n",
    "        return 1\n",
    "    else:\n",
    "        return Fibonacci_number(n-1) + Fibonacci_number(n-2)\n",
    "Fibonacci_number(5)"
   ]
  },
  {
   "cell_type": "code",
   "execution_count": 64,
   "id": "1b17e39c-6dbe-453a-9791-b2918d2c83f3",
   "metadata": {},
   "outputs": [
    {
     "data": {
      "text/plain": [
       "38"
      ]
     },
     "execution_count": 64,
     "metadata": {},
     "output_type": "execute_result"
    }
   ],
   "source": [
    "#04.Write a recursive Python function to calculate the sum of all elements in a list.\n",
    "l = [3,4,2,6,9,6,2,1,5]\n",
    "def sum_list(a):\n",
    "    if not a:\n",
    "        return 0\n",
    "    else:\n",
    "        return a[0] + sum_list(a[1:])\n",
    "sum_list(l)"
   ]
  },
  {
   "cell_type": "code",
   "execution_count": null,
   "id": "db3e79b7-bea3-4e14-9ce7-41dddb65e8a7",
   "metadata": {},
   "outputs": [],
   "source": [
    "#05.How can you prevent a recursive function from running indefinitely, causing a stack overflow error?\n",
    "'''\n",
    "Ensure you have a clear \"stop\" rule called the base case that tells the function when to stop.\n",
    "Make sure that, with each recursive call, you get closer to the base case (e.g., by reducing the input or moving towards the stopping condition).\n",
    "Test your function with small inputs first to check if it reaches the base case correctly.\n",
    "Be careful with your conditional statements to avoid accidental infinite recursion.\n",
    "Use tail recursion if possible (though Python doesn't optimize it).\n",
    "If you encounter unexpected behavior, consider checking for invalid inputs and handling them properly to prevent infinite recursion.\n",
    "\"\"\"\n",
    "\n"
   ]
  },
  {
   "cell_type": "code",
   "execution_count": 2,
   "id": "cfccec32-dc1a-425d-a757-ebcfc0ae98a2",
   "metadata": {},
   "outputs": [
    {
     "name": "stdout",
     "output_type": "stream",
     "text": [
      "The GCD of 48 and 18 is 6\n"
     ]
    }
   ],
   "source": [
    "#06.Create a recursive Python function to find the greatest common divisor (GCD) of two numbers using the Euclidean algorithm.\n",
    "def gcd(a, b):\n",
    "    if b == 0:\n",
    "        return a\n",
    "    else:\n",
    "        return gcd(b, a % b)\n",
    "num1 = 48\n",
    "num2 = 18\n",
    "result = gcd(num1, num2)\n",
    "print(f\"The GCD of {num1} and {num2} is {result}\")\n"
   ]
  },
  {
   "cell_type": "code",
   "execution_count": 3,
   "id": "93dc7a11-fa08-401f-96b3-8d2ee4a787a0",
   "metadata": {},
   "outputs": [
    {
     "name": "stdout",
     "output_type": "stream",
     "text": [
      "The reversed string is: !dlroW ,olleH\n"
     ]
    }
   ],
   "source": [
    "#07.Write a recursive Python function to reverse a string.\n",
    "def reverse_string(input_str):\n",
    "    if len(input_str) <= 1:\n",
    "        return input_str\n",
    "    else:\n",
    "        return input_str[-1] + reverse_string(input_str[:-1])\n",
    "\n",
    "input_string = \"Hello, World!\"\n",
    "result = reverse_string(input_string)\n",
    "print(f\"The reversed string is: {result}\")\n"
   ]
  },
  {
   "cell_type": "code",
   "execution_count": 1,
   "id": "a0b66b9b-f6c2-4547-8a8d-c2c0b8615a17",
   "metadata": {},
   "outputs": [
    {
     "data": {
      "text/plain": [
       "15625"
      ]
     },
     "execution_count": 1,
     "metadata": {},
     "output_type": "execute_result"
    }
   ],
   "source": [
    "#08.Create a recursive Python function to calculate the power of a number (x^n).\n",
    "def power(x, n):\n",
    "    if n == 0:\n",
    "        return 1\n",
    "    else:\n",
    "        return x * power(x, n - 1)\n",
    "\n",
    "power(5,6)\n"
   ]
  },
  {
   "cell_type": "code",
   "execution_count": 3,
   "id": "afa5d560-21b7-4b69-b799-bf75c7eb193e",
   "metadata": {},
   "outputs": [
    {
     "data": {
      "text/plain": [
       "['abc', 'acb', 'bac', 'bca', 'cab', 'cba']"
      ]
     },
     "execution_count": 3,
     "metadata": {},
     "output_type": "execute_result"
    }
   ],
   "source": [
    "#09.Write a recursive Python function to find all permutations of a given string.\n",
    "def find_permutations(s):\n",
    "    if len(s) == 1:\n",
    "        return [s]\n",
    "\n",
    "    permutations = []\n",
    "    for i, char in enumerate(s):\n",
    "        remaining_chars = s[:i] + s[i + 1:]\n",
    "        for perm in find_permutations(remaining_chars):\n",
    "            permutations.append(char + perm)\n",
    "\n",
    "    return permutations\n",
    "\n",
    "find_permutations(\"abc\")"
   ]
  },
  {
   "cell_type": "code",
   "execution_count": 4,
   "id": "0e5d57b2-68ed-490d-84d2-95fdc4ec18c5",
   "metadata": {},
   "outputs": [
    {
     "data": {
      "text/plain": [
       "False"
      ]
     },
     "execution_count": 4,
     "metadata": {},
     "output_type": "execute_result"
    }
   ],
   "source": [
    "#10.Write a recursive Python function to check if a string is a palindrome.\n",
    "def palindrome(s):\n",
    "    if len(s)<1:\n",
    "        return True\n",
    "    else:\n",
    "        if s[0]==s[1]:\n",
    "            return ispalindrome(s[1:-1])\n",
    "        else:\n",
    "            return False\n",
    "palindrome(\"madam\")\n",
    "        \n",
    "        \n",
    "    "
   ]
  },
  {
   "cell_type": "code",
   "execution_count": 5,
   "id": "1d582ecd-72d6-4489-9269-0ba87c7e4f24",
   "metadata": {},
   "outputs": [
    {
     "name": "stdout",
     "output_type": "stream",
     "text": [
      "[[], [1], [2], [3], [1, 2], [1, 3], [2, 3], [1, 2, 3]]\n"
     ]
    }
   ],
   "source": [
    "#11.Create a recursive Python function to generate all possible combinations of a list of elements.\n",
    "def generate_combinations(elements):\n",
    "    def backtrack(start, current_combination):\n",
    "        # If the current combination is of the desired length, add it to the results\n",
    "        if len(current_combination) == k:\n",
    "            combinations.append(current_combination[:])\n",
    "            return\n",
    "        # Generate combinations by recursively adding elements\n",
    "        for i in range(start, len(elements)):\n",
    "            current_combination.append(elements[i])\n",
    "            backtrack(i + 1, current_combination)\n",
    "            current_combination.pop()\n",
    "\n",
    "    combinations = []\n",
    "    for k in range(len(elements) + 1):\n",
    "        backtrack(0, [])\n",
    "    return combinations\n",
    "\n",
    "# Test the function\n",
    "my_list = [1, 2, 3]\n",
    "result = generate_combinations(my_list)\n",
    "print(result)\n"
   ]
  },
  {
   "cell_type": "code",
   "execution_count": null,
   "id": "fabe5358-df58-465d-a83d-0f8517845a64",
   "metadata": {},
   "outputs": [],
   "source": []
  },
  {
   "cell_type": "code",
   "execution_count": null,
   "id": "0f7144e7-3d44-44e0-bfed-5899ad0e1ab3",
   "metadata": {},
   "outputs": [],
   "source": [
    "Basics of Functions:"
   ]
  },
  {
   "cell_type": "code",
   "execution_count": null,
   "id": "4ec7294d-6688-405e-a658-eca92c8c4a58",
   "metadata": {},
   "outputs": [],
   "source": []
  },
  {
   "cell_type": "code",
   "execution_count": null,
   "id": "c87f5e68-2236-4967-a588-2df95d9828cd",
   "metadata": {},
   "outputs": [],
   "source": [
    "#01.What is a function in Python, and why is it used?\n",
    "\"\"\"A function is a block of code which only runs when it is called. The syntex for the python function contains a header and body. The function\n",
    "header beings with the 'def' keyword. The function header may contain zero or more number of parameters.\n",
    " \n",
    " # Why is a function in python used?\n",
    " A function in Python is like a recipe or a set of instructions. It's used to group specific tasks together \n",
    " so you can reuse them, make your code more organized, and avoid doing the same thing multiple times. Functions \n",
    " are like building blocks that help you write code that's easier to understand and maintain.\"\"\""
   ]
  },
  {
   "cell_type": "code",
   "execution_count": 7,
   "id": "70be4a6c-f7c9-4c89-b800-9bd004e3a357",
   "metadata": {},
   "outputs": [
    {
     "name": "stdout",
     "output_type": "stream",
     "text": [
      "5050\n"
     ]
    }
   ],
   "source": [
    "#02.How do you define a function in Python? Provide an example.\n",
    "\"\"\"In Python, you can define a function using the def keyword, followed by the function name,\n",
    "a set of parentheses for parameters (if any), a colon, and an indented code block that contains\n",
    "the function's logic. Here's the basic syntax:\"\"\"\n",
    "#example\n",
    "def sum(x,y):\n",
    "    s=0\n",
    "    for i in range(x,y+1):\n",
    "        s=s+i\n",
    "    print(s)\n",
    "sum(1,100)\n",
    "    "
   ]
  },
  {
   "cell_type": "code",
   "execution_count": 8,
   "id": "6d992ed7-5e44-4644-9484-ee77a6f6e1db",
   "metadata": {},
   "outputs": [
    {
     "data": {
      "text/plain": [
       "\"\\nFunction Definition: It's like writing a recipe or instructions for a task. You define the name of the task,\\nwhat it needs (ingredients), and how it should be done (steps). But you haven't actually done the task yet.\\n\\nFunction Call: It's like following the recipe or instructions to actually do the task. You take the recipe (function definition)\\nand use it with specific details (ingredients) to get the result (the cooked meal).\\n\""
      ]
     },
     "execution_count": 8,
     "metadata": {},
     "output_type": "execute_result"
    }
   ],
   "source": [
    "#03.Explain the difference between a function definition and a function call.\n",
    "\"\"\"\n",
    "Function Definition: It's like writing a recipe or instructions for a task. You define the name of the task,\n",
    "what it needs (ingredients), and how it should be done (steps). But you haven't actually done the task yet.\n",
    "\n",
    "Function Call: It's like following the recipe or instructions to actually do the task. You take the recipe (function definition)\n",
    "and use it with specific details (ingredients) to get the result (the cooked meal).\n",
    "\"\"\"\n"
   ]
  },
  {
   "cell_type": "code",
   "execution_count": 9,
   "id": "27c8c17c-8df1-4dc0-b624-8746049070fa",
   "metadata": {},
   "outputs": [
    {
     "name": "stdout",
     "output_type": "stream",
     "text": [
      "15\n"
     ]
    }
   ],
   "source": [
    "#04.Write a Python program that defines a function to calculate the sum of two numbers and then calls the function.\n",
    "def sum_num(x,y):\n",
    "    print(x+y)\n",
    "sum_num(6,9)"
   ]
  },
  {
   "cell_type": "code",
   "execution_count": 10,
   "id": "019b59d0-58e3-40d4-8db6-566e49d04fba",
   "metadata": {},
   "outputs": [
    {
     "data": {
      "text/plain": [
       "\"\\nFunction Name: The name of the function by which it can be called or referenced in your code.\\n\\nParameters (or Arguments): The list of input values that the function expects to receive when it's called. \\nPython doesn't require specifying data types for parameters, but you provide names for the parameters.\\n\\nReturn Type (Optional): The data type of the value that the function will return as its result. In Python,\\nyou don't explicitly specify the return type; you can return values of any type or use None if the function doesn't return anything.\\n\""
      ]
     },
     "execution_count": 10,
     "metadata": {},
     "output_type": "execute_result"
    }
   ],
   "source": [
    "#05.What is a function signature, and what information does it typically include?\n",
    "\"\"\"\n",
    "Function Name: The name of the function by which it can be called or referenced in your code.\n",
    "\n",
    "Parameters (or Arguments): The list of input values that the function expects to receive when it's called. \n",
    "Python doesn't require specifying data types for parameters, but you provide names for the parameters.\n",
    "\n",
    "Return Type (Optional): The data type of the value that the function will return as its result. In Python,\n",
    "you don't explicitly specify the return type; you can return values of any type or use None if the function doesn't return anything.\n",
    "\"\"\"\n",
    "\n"
   ]
  },
  {
   "cell_type": "code",
   "execution_count": 11,
   "id": "bdf29c21-1d30-457d-8d99-60547bfbc89d",
   "metadata": {},
   "outputs": [],
   "source": [
    "#06.Create a Python function that takes two arguments and returns their product.\n",
    "def product(x,y):\n",
    "    return x*y"
   ]
  },
  {
   "cell_type": "code",
   "execution_count": null,
   "id": "105a0488-6843-49a0-ba65-ad62228bd31a",
   "metadata": {},
   "outputs": [],
   "source": []
  },
  {
   "cell_type": "raw",
   "id": "939dfb9d-92a7-41de-9b30-199a8738539a",
   "metadata": {},
   "source": [
    "Function Parameters and Arguments:"
   ]
  },
  {
   "cell_type": "code",
   "execution_count": null,
   "id": "03be390c-514c-4652-9756-3c6d1733ee7d",
   "metadata": {},
   "outputs": [],
   "source": []
  },
  {
   "cell_type": "code",
   "execution_count": 13,
   "id": "216fa57d-8a94-436c-a513-997b54e2c5fc",
   "metadata": {},
   "outputs": [],
   "source": [
    "#01.Explain the concepts of formal parameters and actual arguments in Python functions.\n",
    "\"\"\" Formal Parameters (Parameters):\n",
    "\n",
    "Definition: Formal parameters are placeholders or variables used in the function definition to represent \n",
    "the values that the function expects to receive when it's called. These parameters act as \"variables\" within the function's code block.\n",
    "\n",
    "Usage: You define formal parameters in the function's signature, inside the parentheses.\n",
    "These parameters serve as placeholders for the data that the function needs to operate on.\n",
    "\n",
    "Example: In the function add(a, b), a and b are formal parameters. They represent the two \n",
    "numbers that the add function expects to receive.\n",
    "\n",
    "Actual Arguments (Arguments):\n",
    "\n",
    "Definition: Actual arguments are the actual values or expressions that are passed to a function when it is called.\n",
    "These values are substituted for the formal parameters defined in the function signature.\n",
    "\n",
    "Usage: When you call a function, you provide actual arguments as input, and these arguments are assigned to the\n",
    "corresponding formal parameters within the function.\n",
    "\n",
    "Example: In the function call add(5, 3), 5 and 3 are actual arguments. They are the values that will be \n",
    "substituted for the formal parameters a and b within the add function.\"\"\"\n",
    "\n",
    "\n",
    "def add(a, b):  # 'a' and 'b' are formal parameters\n",
    "    result = a + b\n",
    "    return result\n",
    "\n",
    "sum_result = add(5, 3)  # '5' and '3' are actual arguments\n"
   ]
  },
  {
   "cell_type": "code",
   "execution_count": 14,
   "id": "690545eb-46a5-4e61-9859-28f0762392d1",
   "metadata": {},
   "outputs": [
    {
     "name": "stdout",
     "output_type": "stream",
     "text": [
      "Hello, Guest!\n",
      "Hello, Alice!\n",
      "Hi, Bob!\n"
     ]
    }
   ],
   "source": [
    "#02.Write a Python program that defines a function with default argument values.\n",
    "def greet(name=\"Guest\", greeting=\"Hello\"):\n",
    "    \"\"\"\n",
    "    Greets a person with a custom greeting message.\n",
    "\n",
    "    :param name: The name of the person (default is \"Guest\").\n",
    "    :param greeting: The greeting message (default is \"Hello\").\n",
    "    \"\"\"\n",
    "    print(f\"{greeting}, {name}!\")\n",
    "\n",
    "# Call the function with different arguments\n",
    "greet()  # Output: Hello, Guest!\n",
    "greet(\"Alice\")  # Output: Hello, Alice!\n",
    "greet(\"Bob\", \"Hi\")  # Output: Hi, Bob!\n"
   ]
  },
  {
   "cell_type": "code",
   "execution_count": 15,
   "id": "7f30752f-095e-4fc6-9ffd-34d2a6c1cf27",
   "metadata": {},
   "outputs": [
    {
     "name": "stdout",
     "output_type": "stream",
     "text": [
      "Name =  Mani age =  22\n"
     ]
    }
   ],
   "source": [
    "#03.How do you use keyword arguments in Python function calls? Provide an example.\n",
    "\"\"\"\n",
    "When you call a Python function using keyword arguments, you specify which value goes with which\n",
    "parameter by mentioning the parameter names along with the values. This way, you make it clear which\n",
    "argument corresponds to which part of the function, making your code more readable and less prone to errors,\n",
    "especially for functions with many parameters. It's like labeling the ingredients in a recipe to ensure you\n",
    "use them correctly.\n",
    "\"\"\"\n",
    "def display(Name,age):\n",
    "    print(\"Name = \" ,Name, \"age = \", age)\n",
    "    \n",
    "display(Name=\"Mani\",age =\"22\")"
   ]
  },
  {
   "cell_type": "code",
   "execution_count": 16,
   "id": "42728975-59cd-40bc-bda8-f8a20657551e",
   "metadata": {},
   "outputs": [
    {
     "name": "stdout",
     "output_type": "stream",
     "text": [
      "6\n"
     ]
    }
   ],
   "source": [
    "#04.Create a Python function that accepts a variable number of arguments and calculates their sum.\n",
    "def calculate_sum(*args):\n",
    "    \n",
    "    total = 0\n",
    "    for num in args:\n",
    "        total += num\n",
    "    return total\n",
    "\n",
    "result1 = calculate_sum(1, 2, 3)\n",
    "\n",
    "print(result1) \n"
   ]
  },
  {
   "cell_type": "code",
   "execution_count": null,
   "id": "bc3b0339-7da3-4e93-ac67-c19cb3e04704",
   "metadata": {},
   "outputs": [],
   "source": [
    "#05.What is the purpose of the `*args` and `**kwargs` syntax in function parameter lists?\n",
    "\"\"\"\n",
    "*args is used to accept a variable number of positional arguments.\n",
    "**kwargs is used to accept a variable number of keyword arguments.\n",
    "\n",
    "These syntaxes make functions more versatile and adaptable to different scenarios,\n",
    "as you can pass different numbers of arguments without having to define specific\n",
    "parameter names for each one. This flexibility is particularly useful when designing\n",
    "functions that need to handle a wide range of input possibilities.\n",
    "\"\"\"\n",
    "def sum_values(*args):\n",
    "    total = sum(args)\n",
    "    return total\n",
    "\n",
    "def print_info(**kwargs):\n",
    "    for key, value in kwargs.items():\n",
    "        print(f\"{key}: {value}\")\n"
   ]
  },
  {
   "cell_type": "code",
   "execution_count": null,
   "id": "6c0805c2-456e-4caf-9846-25b56002aaec",
   "metadata": {},
   "outputs": [],
   "source": []
  },
  {
   "cell_type": "raw",
   "id": "74cb57e4-b06e-410b-bf73-ec057a93ae66",
   "metadata": {},
   "source": [
    "Return Values and Scoping:\n"
   ]
  },
  {
   "cell_type": "code",
   "execution_count": null,
   "id": "6747d654-ee33-40ea-825b-ac14d1a6f71d",
   "metadata": {},
   "outputs": [],
   "source": []
  },
  {
   "cell_type": "code",
   "execution_count": 19,
   "id": "a3ae3733-567a-492a-b278-2e2749ad5876",
   "metadata": {},
   "outputs": [
    {
     "data": {
      "text/plain": [
       "11"
      ]
     },
     "execution_count": 19,
     "metadata": {},
     "output_type": "execute_result"
    }
   ],
   "source": [
    "#01.Describe the role of the `return` statement in Python functions and provide examples.\n",
    "\"\"\"\n",
    "The return statement in a Python function is like a way for the function to send a value back to \n",
    "the part of the program that called it. It's like a function saying, \"Here's the result of what\n",
    "I did; you can use it for something.\"\"\"\n",
    "\n",
    "def add_numbers(a,b):\n",
    "    return a+b\n",
    "add_numbers(5,6)"
   ]
  },
  {
   "cell_type": "code",
   "execution_count": null,
   "id": "098e5ee6-48d4-4e0c-809a-2ff8ff687019",
   "metadata": {},
   "outputs": [],
   "source": [
    "#02.Explain the concept of variable scope in Python, including local and global variables.\n",
    "\"\"\"\n",
    "Local Variables: These are like notes or information you jot down on a piece of paper while working on a specific task.\n",
    "You can only see and use these notes within that task, and they don't affect other tasks.\n",
    "\n",
    "Global Variables: These are like sticky notes you place on your desk. They're visible and usable from anywhere in your workspace.\n",
    "Anything you write on these sticky notes can be seen and used by any task in your workspace.\n",
    "\n",
    "Variable scope in Python is about where you can see and use these notes (variables). Local variables are specific\n",
    "to a particular task (like notes on a piece of paper), while global variables are accessible from anywhere in your \n",
    "program (like sticky notes on your desk).\n",
    "\"\"\"\n",
    "def example_function():\n",
    "    local_var = 42  # This is a local variable\n",
    "    print(local_var)\n",
    "\n",
    "example_function()\n",
    "print(local_var)  # This will raise an error because 'local_var' is not defined here.\n",
    "\n",
    "-----------------------------------------------------------------------------------------------------\n",
    "\n",
    "global_var = 100  # This is a global variable\n",
    "\n",
    "def example_function():\n",
    "    print(global_var)  # You can access global variables inside functions\n",
    "\n",
    "example_function()\n",
    "print(global_var)\n",
    "\n",
    "\n",
    "\n",
    "\n"
   ]
  },
  {
   "cell_type": "code",
   "execution_count": 22,
   "id": "34767db9-425c-4d53-92ac-a18f253a0ef0",
   "metadata": {},
   "outputs": [
    {
     "name": "stdout",
     "output_type": "stream",
     "text": [
      "100\n",
      "100\n"
     ]
    }
   ],
   "source": [
    "#03.Write a Python program that demonstrates the use of global variables within functions.\n",
    "\n",
    "global_var = 100  # This is a global variable\n",
    "\n",
    "def example_function():\n",
    "    print(global_var) \n",
    "\n",
    "example_function()\n",
    "print(global_var)\n",
    "\n"
   ]
  },
  {
   "cell_type": "code",
   "execution_count": 23,
   "id": "a8386bba-7874-4e36-b578-2990327301f4",
   "metadata": {},
   "outputs": [
    {
     "data": {
      "text/plain": [
       "120"
      ]
     },
     "execution_count": 23,
     "metadata": {},
     "output_type": "execute_result"
    }
   ],
   "source": [
    "#04.Create a Python function that calculates the factorial of a number and returns it.\n",
    "def calc_factorial(x):\n",
    "    fact = 1\n",
    "    for i in range(1,x+1):\n",
    "        fact = fact * i\n",
    "    return fact\n",
    "calc_factorial(5)"
   ]
  },
  {
   "cell_type": "code",
   "execution_count": null,
   "id": "cdf7b4c7-bc0d-4205-8854-704431c9e368",
   "metadata": {},
   "outputs": [],
   "source": [
    "#05.How can you access variables defined outside a function from within the function?\n",
    "\"\"\"\n",
    "To access a variable defined outside a function from within that function, you need to let Python know \n",
    "that you're referring to a global variable. You do this by using the global keyword followed by the variable's \n",
    "name within the function.\n",
    "\n",
    "Once you declare a variable as global inside the function, you can use it just like any other variable within\n",
    "the function's code. Python will recognize that you're referring to the global variable, not creating a new local\n",
    "one with the same name.\n",
    "\"\"\"\n",
    "\n",
    "global_var = 100  \n",
    "\n",
    "def access_global_variable():\n",
    "    global global_var  \n",
    "    print(\"Inside the function:\", global_var) \n",
    "\n",
    "access_global_variable()\n",
    "print(\"Outside the function:\", global_var)  \n"
   ]
  },
  {
   "cell_type": "code",
   "execution_count": null,
   "id": "f386b810-e033-49f9-a744-625588a975bc",
   "metadata": {},
   "outputs": [],
   "source": []
  },
  {
   "cell_type": "raw",
   "id": "ca960ba2-95ad-44cf-8964-b5d5c02b8e88",
   "metadata": {},
   "source": [
    "Lambda Functions and Higher-Order Functions:"
   ]
  },
  {
   "cell_type": "code",
   "execution_count": null,
   "id": "18ec9f0f-d455-48f3-b299-14a743a0e121",
   "metadata": {},
   "outputs": [],
   "source": []
  },
  {
   "cell_type": "code",
   "execution_count": null,
   "id": "f7ddabb7-2b68-4c77-9204-02ee4bc4ef9e",
   "metadata": {},
   "outputs": [],
   "source": [
    "#01.What are lambda functions in Python, and when are they typically used?\n",
    "\"\"\"Lambda functions in Python, also known as anonymous functions or lambda expressions, are a way to create small,\n",
    "unnamed functions quickly. They are typically used for short, simple operations where defining a regular named \n",
    "function using def would be overkill. Lambda functions are defined using the lambda keyword and have a compact syntax.\"\"\"\n",
    "\"\"\"\n",
    "#1.As Arguments to Higher-Order Functions: Lambda functions are commonly used as arguments to functions that accept other \n",
    "functions as parameters. These higher-order functions include:\n",
    "\n",
    "map(): Used to apply a function to each element of an iterable.\n",
    "filter(): Used to filter elements from an iterable based on a condition.\n",
    "sorted(): Used to sort elements in an iterable based on a key function.\n",
    "reduce() (available in Python 2, or in Python 3 with functools.reduce): Used to apply a rolling computation to sequential pairs of values.\n",
    "Lambda functions are handy for defining simple transformations or filtering criteria on the fly.\"\"\"\n",
    "\n",
    "numbers = [1, 2, 3, 4, 5]\n",
    "squared_numbers = list(map(lambda x: x**2, numbers))\n",
    "even_numbers = list(filter(lambda x: x % 2 == 0, numbers))\n",
    "_________________________________________________________________________________________________________________________________________________\n",
    "\"\"\"\n",
    "#2.For Short, One-Time Operations: Lambda functions are useful when you need to perform a brief and straightforward operation \n",
    "that doesn't warrant the definition of a full named function. They can make code more concise and readable for small tasks.\n",
    "\n",
    "\"\"\"\n",
    "names = [\"Alice\", \"Bob\", \"Charlie\"]\n",
    "names.sort(key=lambda name: len(name))  # Sort by name length\n",
    "\n",
    "__________________________________________________________________________________________________________________________________\n",
    "\"\"\"\n",
    "\n",
    "#3.Functional Programming: Lambda functions are fundamental to functional programming concepts in Python. They are frequently\n",
    "used to create functions on the fly for mapping, filtering, reducing, and other functional operations.\n",
    "\"\"\"\n",
    "from functools import reduce\n",
    "numbers = [1, 2, 3, 4, 5]\n",
    "product = reduce(lambda x, y: x * y, numbers)\n",
    "________________________________________________________________________________________________________________________________________\n",
    "\"\"\"\n",
    "#4.Simplified Expressions: Lambda functions are employed when you want to express an operation or function succinctly without\n",
    "defining a named function. This can be especially beneficial for clarity when dealing with simple mathematical or conditional expressions.\n",
    "\"\"\"\n",
    "add = lambda x, y: x + y\n",
    "result = add(5, 3)\n",
    "\n"
   ]
  },
  {
   "cell_type": "code",
   "execution_count": 24,
   "id": "28e950e9-90e0-4ccc-9f64-f342db969ddd",
   "metadata": {},
   "outputs": [
    {
     "name": "stdout",
     "output_type": "stream",
     "text": [
      "[(4, 1), (3, 2), (5, 4), (1, 5), (2, 8)]\n"
     ]
    }
   ],
   "source": [
    "#02.Write a Python program that uses lambda functions to sort a list of tuples based on the second element.\n",
    "\n",
    "lt = [(1, 5), (3, 2), (2, 8), (4, 1), (5, 4)]\n",
    "\n",
    "sorted_data = sorted(lt, key=lambda x: x[1])\n",
    "\n",
    "print(sorted_data)\n"
   ]
  },
  {
   "cell_type": "code",
   "execution_count": null,
   "id": "0982c4d6-e496-4f3f-bd0f-c5fa33b1eb51",
   "metadata": {},
   "outputs": [],
   "source": [
    "#03.Explain the concept of higher-order functions in Python, and provide an example.\n",
    "\"\"\"\n",
    "#1.As Arguments to Higher-Order Functions: Lambda functions are commonly used as arguments to functions that accept other \n",
    "functions as parameters. These higher-order functions include:\n",
    "\n",
    "map(): Used to apply a function to each element of an iterable.\n",
    "filter(): Used to filter elements from an iterable based on a condition.\n",
    "sorted(): Used to sort elements in an iterable based on a key function.\n",
    "reduce() (available in Python 2, or in Python 3 with functools.reduce): Used to apply a rolling computation to sequential pairs of values.\n",
    "Lambda functions are handy for defining simple transformations or filtering criteria on the fly.\"\"\"\n",
    "\n",
    "numbers = [1, 2, 3, 4, 5]\n",
    "squared_numbers = list(map(lambda x: x**2, numbers))\n",
    "even_numbers = list(filter(lambda x: x % 2 == 0, numbers))\n",
    "\n",
    "\"\"\"\n",
    "#2.For Short, One-Time Operations: Lambda functions are useful when you need to perform a brief and straightforward operation \n",
    "that doesn't warrant the definition of a full named function. They can make code more concise and readable for small tasks.\n",
    "\n",
    "\"\"\"\n",
    "names = [\"Alice\", \"Bob\", \"Charlie\"]\n",
    "names.sort(key=lambda name: len(name))  # Sort by name length\n",
    "\n",
    "\n",
    "\"\"\"\n",
    "\n",
    "#3.Functional Programming: Lambda functions are fundamental to functional programming concepts in Python. They are frequently\n",
    "used to create functions on the fly for mapping, filtering, reducing, and other functional operations.\n",
    "\"\"\"\n",
    "from functools import reduce\n",
    "numbers = [1, 2, 3, 4, 5]\n",
    "product = reduce(lambda x, y: x * y, numbers)\n",
    "\n",
    "\"\"\"\n",
    "#4.Simplified Expressions: Lambda functions are employed when you want to express an operation or function succinctly without\n",
    "defining a named function. This can be especially beneficial for clarity when dealing with simple mathematical or conditional expressions.\n",
    "\"\"\"\n",
    "add = lambda x, y: x + y\n",
    "result = add(5, 3)\n"
   ]
  },
  {
   "cell_type": "code",
   "execution_count": 25,
   "id": "472369d4-afce-4577-a82c-02d3e6d1b0b7",
   "metadata": {},
   "outputs": [
    {
     "name": "stdout",
     "output_type": "stream",
     "text": [
      "[1, 4, 9, 16, 25]\n"
     ]
    }
   ],
   "source": [
    "#04.Create a Python function that takes a list of numbers and a function as arguments, applying the function to each element in the list.\n",
    "def apply_function_to_list(numbers, func):\n",
    "    \"\"\"\n",
    "    Apply a given function to each element in the list.\n",
    "\n",
    "    Args:\n",
    "    numbers (list): A list of numbers.\n",
    "    func (function): The function to apply to each element.\n",
    "\n",
    "    Returns:\n",
    "    list: A new list containing the results of applying the function to each element.\n",
    "    \"\"\"\n",
    "    result = []\n",
    "    for num in numbers:\n",
    "        result.append(func(num))\n",
    "    return result\n",
    "\n",
    "# Define a sample function to apply\n",
    "def square(x):\n",
    "    return x ** 2\n",
    "\n",
    "# List of numbers\n",
    "numbers = [1, 2, 3, 4, 5]\n",
    "\n",
    "# Apply the 'square' function to each element in the list\n",
    "squared_numbers = apply_function_to_list(numbers, square)\n",
    "\n",
    "# Print the result\n",
    "print(squared_numbers)  # Output: [1, 4, 9, 16, 25]\n"
   ]
  },
  {
   "cell_type": "code",
   "execution_count": null,
   "id": "d77679ad-41d3-4df3-bd98-f654b144a0ad",
   "metadata": {},
   "outputs": [],
   "source": []
  },
  {
   "cell_type": "raw",
   "id": "7a06956a-22bd-4024-96fc-f67394e64d8c",
   "metadata": {},
   "source": [
    "Built-in Functions:"
   ]
  },
  {
   "cell_type": "code",
   "execution_count": null,
   "id": "91a14e17-694a-49cc-a7b0-f26c1d0605e7",
   "metadata": {},
   "outputs": [],
   "source": []
  },
  {
   "cell_type": "code",
   "execution_count": null,
   "id": "b2d1b0cf-9e78-4b60-83cb-77dc443a735f",
   "metadata": {},
   "outputs": [],
   "source": [
    "#01.Describe the role of built-in functions like `len()`, `max()`, and `min()` in Python.\n",
    "\n",
    "\"\"\"\n",
    "len() Function:\n",
    "\n",
    "Role: The len() function is used to determine the length or number of items in an iterable (such as a string, list, tuple, or dictionary).\n",
    "Usage: You can pass an iterable as an argument to len(), and it will return the number of elements or characters in that iterable.\n",
    "\"\"\"\n",
    "#Example:\n",
    "my_list = [1, 2, 3, 4, 5]\n",
    "length = len(my_list)  \n",
    "\n",
    "\"\"\"\n",
    "max() Function:\n",
    "\n",
    "Role: The max() function is used to find the maximum value among a set of values.\n",
    "Usage: You can pass multiple arguments to max(), and it will return the largest value from those arguments.\n",
    "\"\"\"\n",
    "#Example:\n",
    "\n",
    "numbers = [10, 5, 8, 20, 3]\n",
    "max_value = max(numbers)  # Returns 20\n",
    "\n",
    "\"\"\"\n",
    "min() Function:\n",
    "\n",
    "Role: The min() function is used to find the minimum value among a set of values.\n",
    "Usage: You can pass multiple arguments to min(), and it will return the smallest value from those arguments.\n",
    "\"\"\"\n",
    "#Example:\n",
    "\n",
    "numbers = [10, 5, 8, 20, 3]\n",
    "min_value = min(numbers)  # Returns 3\n"
   ]
  },
  {
   "cell_type": "code",
   "execution_count": 26,
   "id": "efb78ce2-9235-463d-aca2-0520904363a8",
   "metadata": {},
   "outputs": [
    {
     "name": "stdout",
     "output_type": "stream",
     "text": [
      "[1, 4, 9, 16, 25]\n"
     ]
    }
   ],
   "source": [
    "#02.Write a Python program that uses the `map()` function to apply a function to each element of a list.\n",
    "\n",
    "numbers = [1, 2, 3, 4, 5]\n",
    "squared_numbers = list(map(lambda x: x**2, numbers))\n",
    "print(squared_numbers)  \n"
   ]
  },
  {
   "cell_type": "code",
   "execution_count": 27,
   "id": "bc97d5a6-8cac-43be-826b-d5b05e839681",
   "metadata": {},
   "outputs": [
    {
     "name": "stdout",
     "output_type": "stream",
     "text": [
      "[2, 4, 6, 8, 10]\n"
     ]
    }
   ],
   "source": [
    "#03.How does the `filter()` function work in Python, and when would you use it?\n",
    "\n",
    "numbers = [1, 2, 3, 4, 5, 6, 7, 8, 9, 10]\n",
    "even_numbers = list(filter(lambda x: x % 2 == 0, numbers))\n",
    "print(even_numbers)  \n",
    "\n"
   ]
  },
  {
   "cell_type": "code",
   "execution_count": 28,
   "id": "3c8eae6c-d9f7-49ff-a574-a028c6708522",
   "metadata": {},
   "outputs": [
    {
     "name": "stdout",
     "output_type": "stream",
     "text": [
      "120\n"
     ]
    }
   ],
   "source": [
    "#04.Create a Python program that uses the `reduce()` function to find the product of all elements in a list.\n",
    "from functools import reduce\n",
    "numbers = [1, 2, 3, 4, 5]\n",
    "product = reduce(lambda x, y: x * y, numbers)\n",
    "print(product)  \n"
   ]
  },
  {
   "cell_type": "code",
   "execution_count": null,
   "id": "5d4e5d82-0e06-484d-a868-f9ce0a61254a",
   "metadata": {},
   "outputs": [],
   "source": []
  },
  {
   "cell_type": "raw",
   "id": "639e9fe3-b74f-45ee-aa4a-398b8777980a",
   "metadata": {},
   "source": [
    "Function Documentation and Best Practices:"
   ]
  },
  {
   "cell_type": "code",
   "execution_count": null,
   "id": "cdbd7954-6487-4751-97d1-fe3a7a6b66cb",
   "metadata": {},
   "outputs": [],
   "source": []
  },
  {
   "cell_type": "code",
   "execution_count": null,
   "id": "09f91084-f52a-4550-80a4-15a8224358f3",
   "metadata": {},
   "outputs": [],
   "source": [
    "#01.Explain the purpose of docstrings in Python functions and how to write them.\n",
    "\"\"\" Docstrings in Python are comments or explanations you write inside your code to describe what a function does,\n",
    "what it needs as input, and what it provides as output. They serve as documentation to help you and other developers\n",
    "understand and use the function properly. Docstrings are enclosed in triple quotes and are placed right after the function definition.\"\"\"\n",
    "def add(a, b):\n",
    "    \"\"\"\n",
    "    Adds two numbers together.\n",
    "    \n",
    "    Parameters:\n",
    "    a (int): The first number.\n",
    "    b (int): The second number.\n",
    "    \n",
    "    Returns:\n",
    "    int: The sum of the two numbers.\n",
    "    \"\"\"\n",
    "    return a + b\n"
   ]
  },
  {
   "cell_type": "code",
   "execution_count": null,
   "id": "313a5cff-abfb-4f58-b83a-14ef7a40718a",
   "metadata": {},
   "outputs": [],
   "source": [
    "#02.Describe some best practices for naming functions and variables in Python, including naming conventions and guidelines.\n",
    "\"\"\"\n",
    "Naming functions and variables in Python is crucial for code readability and maintainability.\n",
    "Following best practices and naming conventions makes your code more understandable for you, \n",
    "your collaborators, and future maintainers. Here are some best practices and guidelines:\n",
    "\n",
    "1. Use Descriptive Names:\n",
    "Choose names that clearly describe the purpose or function of variables and functions.\n",
    "Avoid generic or single-letter names.\n",
    "\n",
    "2. Follow PEP 8:\n",
    "PEP 8 is the official Python style guide. It provides conventions for naming functions and variables:\n",
    "Use lowercase letters for function and variable names.\n",
    "Separate words in variable names with underscores (snake_case).\n",
    "Use uppercase letters for constants (e.g., PI, MAX_VALUE).\n",
    "Use lowercase with words separated by underscores for module names (e.g., my_module.py).\n",
    "\n",
    "3. Use Verb-Noun Naming for Functions:\n",
    "Name functions with a verb followed by a noun or noun phrase, indicating the action performed by the function.\n",
    "Example: calculate_total, find_max_value.\n",
    "\n",
    "4. Use Meaningful Variable Names:\n",
    "Variable names should convey the purpose or content of the variable.\n",
    "Example: Instead of x, use counter if it counts something.\n",
    "\n",
    "5. Avoid Ambiguous Names:\n",
    "Avoid names that could have multiple interpretations. Make names explicit.\n",
    "Example: Don't use data if it can be user_data or sensor_data.\n",
    "\n",
    "6. Be Consistent:\n",
    "Maintain consistent naming conventions throughout your codebase. Consistency improves readability.\n",
    "If you follow a convention for naming variables or functions, stick to it.\n",
    "\n",
    "7. Use CamelCase for Classes:\n",
    "For class names, use CamelCase (capitalizing the first letter of each word) to distinguish them from functions and variables.\n",
    "Example: MyClass, CustomerOrder.\n",
    "\n",
    "8. Avoid Reserved Keywords:\n",
    "Avoid using Python's reserved keywords (e.g., for, if, while) as variable or function names.\n",
    "\n",
    "9. Be Mindful of Scope:\n",
    "Variables with different scopes should have distinct names.\n",
    "Use different names for local variables, global variables, and function arguments.\n",
    "\n",
    "10. Document Non-Obvious Names:\n",
    "- If a variable or function name is not immediately clear, add a comment or docstring to explain its purpose.\n",
    "\n",
    "11. Use Singular and Plural Appropriately:\n",
    "- Use singular nouns for single items and plural nouns for collections.\n",
    "- Example: user for a single user, users for a list of users.\n",
    "\n",
    "12. Avoid Abbreviations and Acronyms:\n",
    "- Use full, descriptive words instead of abbreviations or acronyms that might not be clear to everyone.\n",
    "- Exception: Well-known acronyms like HTTP or URL are acceptable.\n",
    "\n",
    "13. Respect Naming Conventions of Libraries:\n",
    "- When using external libraries or frameworks, follow their naming conventions to maintain consistency.\n",
    "\n",
    "14. Refactor When Necessary:\n",
    "- If you find that a variable or function name no longer accurately represents its purpose, don't hesitate to refactor and choose a more appropriate name.\n",
    "\n",
    "15. Use Meaningful Function Arguments:\n",
    "- Choose descriptive names for function arguments to make it clear what each argument represents.\n",
    "- Example: Instead of func(a, b), use calculate_total(price, quantity).\n",
    "\"\"\"\n"
   ]
  },
  {
   "cell_type": "code",
   "execution_count": null,
   "id": "6d502337-15e9-41c6-8749-2089ab1fa6b6",
   "metadata": {},
   "outputs": [],
   "source": []
  }
 ],
 "metadata": {
  "kernelspec": {
   "display_name": "Python 3 (ipykernel)",
   "language": "python",
   "name": "python3"
  },
  "language_info": {
   "codemirror_mode": {
    "name": "ipython",
    "version": 3
   },
   "file_extension": ".py",
   "mimetype": "text/x-python",
   "name": "python",
   "nbconvert_exporter": "python",
   "pygments_lexer": "ipython3",
   "version": "3.10.8"
  }
 },
 "nbformat": 4,
 "nbformat_minor": 5
}
